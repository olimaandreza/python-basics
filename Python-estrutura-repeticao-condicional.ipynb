{
 "cells": [
  {
   "attachments": {},
   "cell_type": "markdown",
   "metadata": {},
   "source": [
    "# Estruturas condicionais\n",
    "\n",
    "Estruturas condicionais são usadas para controlar o fluxo de um programa, permitindo que diferentes blocos de código sejam executados com base no resultado da avaliação de uma ou mais expressões lógicas (por expressões lógicas, quero dizer expressões que retornam um valor booleano, conforme visto no [aqui](Python-comparacoes-operadores-logicos.ipynb)).\n",
    "\n",
    "Para quem não viu o conteúdo do link anterior, lá eu dei um exemplo assim: se você tem dinheiro ou tem um cartão de crédito, você pode comprar um sorvete.\n",
    "\n",
    "A estrutura condicional é representada justamente pelo \"se\" da questão. Mas nós vamos usar esse \"se\" em inglês, ou seja, \"if\".\n",
    "\n",
    "\n"
   ]
  },
  {
   "attachments": {},
   "cell_type": "markdown",
   "metadata": {},
   "source": [
    "## Condição if\n",
    "\n",
    "A estrutura condicional \"if\" fica assim em python:\n",
    "\n",
    "    if condição:\n",
    "        ação\n",
    "\n",
    "Observe a identação (tab ou 4 espaços) após o sinal de dois-pontos. Ela é importantíssima, pois é assim que o python sabe que aquela ação só será realizada se a condição for True.\n",
    "\n",
    "No nosso exemplo, seria algo desse tipo:\n",
    "\n",
    "    if cartao_credito == True or dinheiro == True:\n",
    "        compre_sorvete"
   ]
  },
  {
   "cell_type": "code",
   "execution_count": 1,
   "metadata": {},
   "outputs": [
    {
     "name": "stdout",
     "output_type": "stream",
     "text": [
      "Pode comprar sorvete\n"
     ]
    }
   ],
   "source": [
    "# Veja que quando a condição é satisfeita, o print ocorre.\n",
    "cartao_credito=True\n",
    "dinheiro=True\n",
    "\n",
    "if cartao_credito==True or dinheiro==True:\n",
    "    print(\"Pode comprar sorvete\") "
   ]
  },
  {
   "cell_type": "code",
   "execution_count": 2,
   "metadata": {},
   "outputs": [],
   "source": [
    "# Agora o que acontece quando a condição não é satisfeita:\n",
    "cartao_credito=False\n",
    "dinheiro=False\n",
    "\n",
    "if cartao_credito==True or dinheiro==True:\n",
    "    print(\"Pode comprar sorvete\") \n",
    "    \n",
    "# O print não ocorre porque o python não chegou a executar o que está na identação, pois a condição não foi satisfeita\n"
   ]
  },
  {
   "attachments": {},
   "cell_type": "markdown",
   "metadata": {},
   "source": [
    "## Condição if-else\n",
    "\n",
    "No exemplo anterior, nada ocorre se eu não tiver dinheiro nem cartão de crédito, mas vamos dizer que a minha condição agora passe a ser a seguinte: se você tem dinheiro ou tem um cartão de crédito, você pode comprar um sorvete. caso contrário, beba um copo de água.\n",
    "\n",
    "Esse \"caso contrário\" introduz uma ação que deve ser realizada caso a condição não seja satisfeita. No inglês, usamos o \"else\".\n",
    "\n",
    "A estrutura condicional if-else fica assim no python:\n",
    "\n",
    "    if condição:\n",
    "        ação se True\n",
    "    else:\n",
    "        ação se False\n",
    "\n",
    "No nosso exemplo:\n",
    "\n",
    "    if cartao_credito == True or dinheiro == True:\n",
    "        compre_sorvete\n",
    "    else:\n",
    "        beba_agua"
   ]
  },
  {
   "cell_type": "code",
   "execution_count": 3,
   "metadata": {},
   "outputs": [
    {
     "name": "stdout",
     "output_type": "stream",
     "text": [
      "Pode comprar sorvete\n"
     ]
    }
   ],
   "source": [
    "# Veja que quando a condição é satisfeita, o primeiro print ocorre.\n",
    "cartao_credito=True\n",
    "dinheiro=True\n",
    "\n",
    "if cartao_credito==True or dinheiro==True:\n",
    "    print(\"Pode comprar sorvete\") \n",
    "else:\n",
    "    print(\"Beba água\")"
   ]
  },
  {
   "cell_type": "code",
   "execution_count": 4,
   "metadata": {},
   "outputs": [
    {
     "name": "stdout",
     "output_type": "stream",
     "text": [
      "Beba água\n"
     ]
    }
   ],
   "source": [
    "# Agora, quando a condição não é satisfeita, o segundo print ocorre.\n",
    "cartao_credito=False\n",
    "dinheiro=False\n",
    "\n",
    "if cartao_credito==True or dinheiro==True:\n",
    "    print(\"Pode comprar sorvete\")\n",
    "else:\n",
    "    print(\"Beba água\") "
   ]
  },
  {
   "attachments": {},
   "cell_type": "markdown",
   "metadata": {},
   "source": [
    "## Condição if-elif-(else)\n",
    "\n",
    "Para terminar, a terceira estrutura condicional é aquela em que temos várias condições, se a primeira condição não ocorrer, verifique uma segunda condição, se essa também não ocorrer, verifique uma terceira... até que cheguemos na opção se nenhuma delas ocorrer (o nosso \"else\", que é opcional). O \"elif\" seria uma abreviação de \"else if\", ou seja, \"caso contrário, se\", em tradução livre do inglês.\n",
    "\n",
    "Voltando ao exemplo do sorvete, seria algo assim: se você tem dinheiro ou tem um cartão de crédito, você pode comprar um sorvete. se você não tem dinheiro nem cartão de crédito, verifique se seu amigo tem dinheiro ou cartão de crédito. Se ele tiver, você pode comprar sorvete, mas fica devendo o amigo. Se seu amigo também não tiver dinheiro, ~~procure outro amigo~~, beba água.\n",
    "\n",
    "Na estrutura do python:\n",
    "\n",
    "    if condição1:\n",
    "        ação1 se condição1 é True\n",
    "    elif condição2:\n",
    "        ação2 se condição2 é True\n",
    "    # Opcional\n",
    "    else:\n",
    "        ação se todas as condições são False\n",
    "\n",
    "Observe que você pode adicionar quantos elifs forem necessários para a tomada de decisão que é necessária no seu programa.\n",
    "\n",
    "No nosso exemplo, a estrtura ficaria assim:\n",
    "\n",
    "    if cartao_credito == True or dinheiro == True:\n",
    "        compre_sorvete\n",
    "    elif amigo_cartao_credito == True or amigo_dinheiro == True:\n",
    "        compre_sorvete\n",
    "        fica_devendo\n",
    "    else:\n",
    "        beba água\n"
   ]
  },
  {
   "cell_type": "code",
   "execution_count": 5,
   "metadata": {},
   "outputs": [
    {
     "name": "stdout",
     "output_type": "stream",
     "text": [
      "Pode comprar sorvete\n"
     ]
    }
   ],
   "source": [
    "# O primeiro print continua ocorrendo caso a primeira condição seja satisfeita \n",
    "# Nesse caso, o python não chega nem a percorrer as outras condições\n",
    "\n",
    "cartao_credito=True\n",
    "dinheiro=False\n",
    "amigo_cartao=True\n",
    "amigo_dinheiro=True\n",
    "\n",
    "if cartao_credito==True or dinheiro==True: #observe que no Or, basta que pelo menos uma das condições seja True\n",
    "    print(\"Pode comprar sorvete\") \n",
    "elif amigo_cartao==True or amigo_dinheiro==True:\n",
    "    print(\"Pode comprar sorvete\")\n",
    "    print(\"Fica devendo o amigo\")\n",
    "else:\n",
    "    print(\"Beba água\")"
   ]
  },
  {
   "cell_type": "code",
   "execution_count": 6,
   "metadata": {},
   "outputs": [
    {
     "name": "stdout",
     "output_type": "stream",
     "text": [
      "Pode comprar sorvete\n",
      "Fica devendo o amigo\n"
     ]
    }
   ],
   "source": [
    "# Agora, se a primeira condição não é satisfeita, o python avalia a segunda condição\n",
    "# Como a segunda condição é verdadeira, ocorre o segundo print\n",
    "\n",
    "cartao_credito=False\n",
    "dinheiro=False\n",
    "amigo_cartao=True\n",
    "amigo_dinheiro=False\n",
    "\n",
    "if cartao_credito==True or dinheiro==True:\n",
    "    print(\"Pode comprar sorvete\") \n",
    "elif amigo_cartao==True or amigo_dinheiro==True:\n",
    "    print(\"Pode comprar sorvete\")\n",
    "    print(\"Fica devendo o amigo\")\n",
    "else:\n",
    "    print(\"Beba água\")"
   ]
  },
  {
   "cell_type": "code",
   "execution_count": 7,
   "metadata": {},
   "outputs": [
    {
     "name": "stdout",
     "output_type": "stream",
     "text": [
      "Beba água\n"
     ]
    }
   ],
   "source": [
    "# Caso nenhuma condição seja satisfeita, ocorre o print do else:\n",
    "\n",
    "cartao_credito=False\n",
    "dinheiro=False\n",
    "amigo_cartao=False\n",
    "amigo_dinheiro=False\n",
    "\n",
    "if cartao_credito==True or dinheiro==True:\n",
    "    print(\"Pode comprar sorvete\") \n",
    "elif amigo_cartao==True or amigo_dinheiro==True:\n",
    "    print(\"Pode comprar sorvete\")\n",
    "    print(\"Fica devendo o amigo\")\n",
    "else:\n",
    "    print(\"Beba água\")"
   ]
  },
  {
   "attachments": {},
   "cell_type": "markdown",
   "metadata": {},
   "source": [
    "Agora você já sabe o básico para adaptar o comportamento esperado do seu programa com base nos dados fornecidos ou nas condições do ambiente. Existem ainda outras formas de utilizar if-else, como em compreensão de listas ou de dicionários, por exemplo. Mas isso fica para um outro contexto.\n",
    "\n",
    "Para quem tiver curiosidade e quiser saber mais sobre estruturas condicionais: https://docs.python.org/pt-br/3/tutorial/controlflow.html#if-statements\n"
   ]
  },
  {
   "attachments": {},
   "cell_type": "markdown",
   "metadata": {},
   "source": [
    "# Estruturas de repetição\n",
    "\n",
    "Estruturas de repetição, como o próprio nome diz, são estruturas que permitem que você repita um trecho de código sem ter que reescrevê-lo várias vezes, com base em uma expressão lógica. Eu gostei do exemplo do sorvete, então vamos continuar nele. Vamos supor que sim, hoje é um bom dia e você tinha dinheiro, então vai tomar sorvete sim.\n",
    "\n",
    "Vamos supor que seu potinho de sorvete tem, sei lá, 15 colheradas. Você não vai precisar repetir sua linha de código de comer sorvete 15 vezes. Existem duas estruturas que podem fazer esse tipo de repetição para você: \"while\" e \"for\", que em tradução livre do inglês, seriam \"enquanto\" e \"para cada\". Vocês vão entender melhor nos exemplos a seguir.\n",
    "\n"
   ]
  },
  {
   "attachments": {},
   "cell_type": "markdown",
   "metadata": {},
   "source": [
    "## While\n",
    "\n",
    "Então, você está feliz com seu pote de sorvete. Mas antes de dar uma colherada, você verifica se ainda tem sorvete.Enquanto ainda tiver sorvete, você dá uma próxima colherada. Se não tem mais sorvete, não adianta você dar uma colherada, então você para de comer.\n",
    "\n",
    "O while seria o \"enquanto\" no nosso exemplo.\n",
    "\n",
    "Na estrutura python, seria algo assim:\n",
    "\n",
    "    while condição:\n",
    "        ação\n",
    "        modifica condição\n",
    "\n",
    "❗ Aqui, um aviso muito, MUITO importante:\n",
    "\n",
    "A não ser que sua intenção seja entrar em um looping infinito, SEMPRE, guarda isso: SEMPRE ATUALIZE A SUA CONDIÇÃO DENTRO DO WHILE.\n",
    "\n",
    "Vou mostrar como fazer isso. No nosso exemplo do sorvete,\n",
    "\n",
    "    colheradas=15\n",
    "    while colheradas > 0:\n",
    "        come_uma_colherada # Se você come uma colherada, agora você tem uma a menos\n",
    "        # Atualizando a condição:\n",
    "        colheradas = colheradas - 1\n",
    "\n",
    "Traduzindo o programa para português, ele quer dizer exatamente o que falei ali em cima. Enquanto as colheradas forem maiores que 0 (ou seja, enquanto ainda tem sorvete), dê uma colherada. Isso faz com que eu tenha menos uma colherada disponível, então eu atualizo a condição de colheradas existentes. Vamos ver na prática:"
   ]
  },
  {
   "cell_type": "code",
   "execution_count": 8,
   "metadata": {},
   "outputs": [
    {
     "name": "stdout",
     "output_type": "stream",
     "text": [
      "Come uma colherada\n",
      "Colheradas restantes: 14\n",
      "Come uma colherada\n",
      "Colheradas restantes: 13\n",
      "Come uma colherada\n",
      "Colheradas restantes: 12\n",
      "Come uma colherada\n",
      "Colheradas restantes: 11\n",
      "Come uma colherada\n",
      "Colheradas restantes: 10\n",
      "Come uma colherada\n",
      "Colheradas restantes: 9\n",
      "Come uma colherada\n",
      "Colheradas restantes: 8\n",
      "Come uma colherada\n",
      "Colheradas restantes: 7\n",
      "Come uma colherada\n",
      "Colheradas restantes: 6\n",
      "Come uma colherada\n",
      "Colheradas restantes: 5\n",
      "Come uma colherada\n",
      "Colheradas restantes: 4\n",
      "Come uma colherada\n",
      "Colheradas restantes: 3\n",
      "Come uma colherada\n",
      "Colheradas restantes: 2\n",
      "Come uma colherada\n",
      "Colheradas restantes: 1\n",
      "Come uma colherada\n",
      "Colheradas restantes: 0\n"
     ]
    }
   ],
   "source": [
    "colheradas=15\n",
    "while colheradas > 0:\n",
    "    print(\"Come uma colherada\")\n",
    "    # Atualiza colheradas:\n",
    "    colheradas = colheradas - 1\n",
    "    print(f\"Colheradas restantes: {colheradas}\") # lembra das f-strings ?"
   ]
  },
  {
   "attachments": {},
   "cell_type": "markdown",
   "metadata": {},
   "source": [
    "Quando o número de colheradas restantes chega a 0, a estrutura de repetição while parou."
   ]
  },
  {
   "cell_type": "code",
   "execution_count": 9,
   "metadata": {},
   "outputs": [
    {
     "name": "stdout",
     "output_type": "stream",
     "text": [
      "Come uma colherada\n",
      "Colheradas restantes: 14\n",
      "Come uma colherada\n",
      "Colheradas restantes: 13\n",
      "Come uma colherada\n",
      "Colheradas restantes: 12\n",
      "Come uma colherada\n",
      "Colheradas restantes: 11\n",
      "Come uma colherada\n",
      "Colheradas restantes: 10\n",
      "Come uma colherada\n",
      "Colheradas restantes: 9\n",
      "Come uma colherada\n",
      "Colheradas restantes: 8\n",
      "Come uma colherada\n",
      "Colheradas restantes: 7\n",
      "Come uma colherada\n",
      "Colheradas restantes: 6\n",
      "Come uma colherada\n",
      "Colheradas restantes: 5\n"
     ]
    }
   ],
   "source": [
    "# Se eu quisesse guardar 5 colheradas para depois:\n",
    "colheradas=15\n",
    "while colheradas > 5:\n",
    "    print(\"Come uma colherada\")\n",
    "    # Atualiza colheradas:\n",
    "    colheradas -=  1 \n",
    "    print(f\"Colheradas restantes: {colheradas}\") "
   ]
  },
  {
   "attachments": {},
   "cell_type": "markdown",
   "metadata": {},
   "source": [
    "Quando o número de colheradas restantes chega a 5, a estrutura de repetição while parou. Pronto, essa é a forma mais comum de se utilizar while, sempre com um valor numérico na condição. Esse valor pode aumentar, diminuir, mulitiplicar, dividir... tudo depende da lógica do precisa ser implementado.\n",
    "\n",
    "Para quem quiser saber mais sobre o while: https://docs.python.org/pt-br/3/reference/compound_stmts.html#while\n"
   ]
  },
  {
   "attachments": {},
   "cell_type": "markdown",
   "metadata": {},
   "source": [
    "### Operadores compostos de atribuição\n",
    "\n",
    "Uma pausa para verificar se você está prestando atenção. Você viu que na atualização da condição do segundo exemplo, eu usei uma estrutura diferente para atribuição de um valor à variável `colheradas`? Eu usei `colheradas -=  1 `. O `-=` é simultaneamente um operador aritmético e de atribuição de variáveis. Ao mesmo tempo em que faz uma conta de subtração, ele também atribui um novo valor à variável, com base em seu próprio estado anterior. Complicado? Não, ele faz exatamente o mesmo que `colheradas = colheradas - 1`. E como ele, existem outros semelhantes:\n",
    "\n",
    "* a += 1 --> a = a + 1\n",
    "* a -= 1 --> a = a - 1\n",
    "* a *= 2 --> a = a * 2\n",
    "* a /= 2 --> a = a / 2\n",
    "\n",
    "Veja mais em https://docs.python.org/3/reference/simple_stmts.html#augmented-assignment-statements\n"
   ]
  },
  {
   "attachments": {},
   "cell_type": "markdown",
   "metadata": {},
   "source": [
    "## For"
   ]
  },
  {
   "attachments": {},
   "cell_type": "markdown",
   "metadata": {},
   "source": [
    "A estrutura \"for\" é um pouco mais manhosa e diferente da estrutura while, pois ela itera (chamamos de **iteração** cada vez que o código é executado em uma estrutura de repetição) sobre os itens de qualquer sequência. E o que é uma sequência em Python? Pode ser uma lista, tupla ou set, em que ele vai iterar sobre cada item da lista, tupla ou set, pode ser uma string, em que ele vai iterar sobre cada caractere da string. E ele faz isso na ordem que os itens aparecem na sequência. \n",
    "\n",
    "Adaptando o exemplo do sorvete, a frase ficaria assim: Para cada colherada dentre as minhas colheradas possíveis, verifique se ainda tem sorvete. Observe que aqui, primeiro eu faço a ação para um item da sequência, e depois eu avalio se ainda tem sorvete. No while, primeiro eu avaliava se tinha sorvete, e somente em caso positivo, eu fazia a ação de comer o sorvete. Nesse caso, pode ser que a ação dentro do while nunca aconteça.\n",
    "\n",
    "A estrutura do for em python é:\n",
    "\n",
    "    for item in sequencia:\n",
    "        ação a ser executada em cada item\n",
    "\n",
    "Outra diferença em relação ao while é que no for não é necessário atualizar a condição, pois não existe uma condição. O for simplesmente passa por todos os elementos de um objeto iterável. \n",
    "\n",
    "Voltando ao sorvete, ficaria assim:\n",
    "\n",
    "    for colherada em colheradas:\n",
    "        verifique se ainda tem sorvete."
   ]
  },
  {
   "attachments": {},
   "cell_type": "markdown",
   "metadata": {},
   "source": [
    "Para começar a falar de for, vou introduzir uma função que ajuda muito. É a função `range(x)`, que cria uma sequência de 0 a x."
   ]
  },
  {
   "cell_type": "code",
   "execution_count": 10,
   "metadata": {},
   "outputs": [
    {
     "name": "stdout",
     "output_type": "stream",
     "text": [
      "\u001b[1;31mInit signature:\u001b[0m \u001b[0mrange\u001b[0m\u001b[1;33m(\u001b[0m\u001b[0mself\u001b[0m\u001b[1;33m,\u001b[0m \u001b[1;33m/\u001b[0m\u001b[1;33m,\u001b[0m \u001b[1;33m*\u001b[0m\u001b[0margs\u001b[0m\u001b[1;33m,\u001b[0m \u001b[1;33m**\u001b[0m\u001b[0mkwargs\u001b[0m\u001b[1;33m)\u001b[0m\u001b[1;33m\u001b[0m\u001b[1;33m\u001b[0m\u001b[0m\n",
      "\u001b[1;31mDocstring:\u001b[0m     \n",
      "range(stop) -> range object\n",
      "range(start, stop[, step]) -> range object\n",
      "\n",
      "Return an object that produces a sequence of integers from start (inclusive)\n",
      "to stop (exclusive) by step.  range(i, j) produces i, i+1, i+2, ..., j-1.\n",
      "start defaults to 0, and stop is omitted!  range(4) produces 0, 1, 2, 3.\n",
      "These are exactly the valid indices for a list of 4 elements.\n",
      "When step is given, it specifies the increment (or decrement).\n",
      "\u001b[1;31mType:\u001b[0m           type\n",
      "\u001b[1;31mSubclasses:\u001b[0m     \n"
     ]
    }
   ],
   "source": [
    "?range"
   ]
  },
  {
   "cell_type": "code",
   "execution_count": 11,
   "metadata": {},
   "outputs": [
    {
     "name": "stdout",
     "output_type": "stream",
     "text": [
      "range(0, 15)\n",
      "[0, 1, 2, 3, 4, 5, 6, 7, 8, 9, 10, 11, 12, 13, 14]\n"
     ]
    }
   ],
   "source": [
    "sequencia = range(15)\n",
    "print(sequencia)\n",
    "print(list(sequencia)) # Transformando o objeto range em uma lista para poder verificar o que ele gera"
   ]
  },
  {
   "cell_type": "code",
   "execution_count": 12,
   "metadata": {},
   "outputs": [
    {
     "data": {
      "text/plain": [
       "[1, 2, 3, 4, 5, 6, 7, 8, 9, 10, 11, 12, 13, 14, 15]"
      ]
     },
     "execution_count": 12,
     "metadata": {},
     "output_type": "execute_result"
    }
   ],
   "source": [
    "# Se quiser, pode indicar também um número para começo, outro para fim\n",
    "# e outro que indica de quantos em quantos passos deve ser a sequência:\n",
    "list(range(1,16)) # Aqui, vale o mesmo da indexação de listas, o último valor não é incluso."
   ]
  },
  {
   "cell_type": "code",
   "execution_count": 13,
   "metadata": {},
   "outputs": [
    {
     "data": {
      "text/plain": [
       "[1, 3, 5, 7, 9, 11, 13, 15, 17, 19, 21, 23, 25, 27, 29]"
      ]
     },
     "execution_count": 13,
     "metadata": {},
     "output_type": "execute_result"
    }
   ],
   "source": [
    "list(range(1,30,2))"
   ]
  },
  {
   "cell_type": "code",
   "execution_count": 14,
   "metadata": {},
   "outputs": [
    {
     "name": "stdout",
     "output_type": "stream",
     "text": [
      "Comi 1 colheradas\n",
      "Comi 2 colheradas\n",
      "Comi 3 colheradas\n",
      "Comi 4 colheradas\n",
      "Comi 5 colheradas\n",
      "Comi 6 colheradas\n",
      "Comi 7 colheradas\n",
      "Comi 8 colheradas\n",
      "Comi 9 colheradas\n",
      "Comi 10 colheradas\n",
      "Comi 11 colheradas\n",
      "Comi 12 colheradas\n",
      "Comi 13 colheradas\n",
      "Comi 14 colheradas\n",
      "Comi 15 colheradas\n"
     ]
    }
   ],
   "source": [
    "# Exemplo do sorvete:\n",
    "\n",
    "for colherada in range(1,16):\n",
    "    print(f\"Comi {colherada} colheradas\") # Observe como o iterador colherada muda a cada iteração"
   ]
  },
  {
   "attachments": {},
   "cell_type": "markdown",
   "metadata": {},
   "source": [
    "Para quem quiser saber mais sobre o for: https://docs.python.org/pt-br/3/tutorial/controlflow.html#for-statements"
   ]
  }
 ],
 "metadata": {
  "kernelspec": {
   "display_name": "Python 3",
   "language": "python",
   "name": "python3"
  },
  "language_info": {
   "codemirror_mode": {
    "name": "ipython",
    "version": 3
   },
   "file_extension": ".py",
   "mimetype": "text/x-python",
   "name": "python",
   "nbconvert_exporter": "python",
   "pygments_lexer": "ipython3",
   "version": "3.10.5"
  },
  "orig_nbformat": 4
 },
 "nbformat": 4,
 "nbformat_minor": 2
}
