{
 "cells": [
  {
   "attachments": {},
   "cell_type": "markdown",
   "metadata": {},
   "source": [
    "## Listas e Tuplas\n",
    "\n",
    "Listas e tuplas são formas de armazenamento de informações de uma maneira agrupada ou sequencial em uma única variável, mas com algumas pequenas diferenças entre si.\n",
    "\n",
    "Pensa nos afazeres do seu dia-a-dia... É um exemplo de um **agrupamento** de itens que possuem algo em comum, nesse exemplo da lista de afazeres, agrupa itens precisam ser executados no seu dia, e ela faz isso de forma **sequencial**, de forma que é sempre possível estabelecer uma **posição**, uma **ordem** para cada elemento da lista: uma tarefa pode ter mais prioridade que outra e aparecerá em uma posição de maior destaque, e vice-versa. Além disso, aqui em casa por exemplo eu tenho dois gatos, então preciso limpar a caixa de areia pelo menos duas vezes ao dia, ou seja, minha lista pode ter essa tarefa repetida.\n",
    "\n",
    "Com esse exemplo, acabei de descrever duas características de listas e tuplas em Python:\n",
    "1. São sequências em que há uma posição ordenada associada aos dados. Ou seja: sempre que houver mais de um dado, a posição de um deles será maior que a do outro e sempre é possível referenciar essa posição. \n",
    "2. Pode ser composta de elementos repetidos: cada elemento será tratado como um indivíduo e sua posição o descreve na sequência. \n",
    "\n",
    "Dessa forma, cada elemento dentro de uma sequência tem uma posição (número inteiro) e um valor (objeto python) associados.\n",
    "\n",
    "Já falei das similaridades, agora falando do que diferencia uma lista de uma tupla:\n",
    "1. Primeiro, a forma de atribuição de listas é a partir de colchetes [] e a tupla, a partir de parênteses (). Existem também as funções `list()` e `tuple()`.\n",
    "2. As listas são **mutáveis** e as tuplas são **imutáveis**. Basicamente, eu posso mudar o conteúdo de uma lista, trocar valores de um elemento, excluir e adicionar, o que não é possível de ser feito em tuplas. pois são estáticas. Isso pode ser uma característica interessante a depender do projeto, em que sabe-se que as informações são sempre fixas, por exemplo, um check list em um processo de trabalho. Salvo revisões pontuais, isso nunca vai mudar de um dia para o outro.\n",
    "3. As tuplas, por serem imutáveis e de código mais simples, podem apresentar uma performance melhor, mais rápida que listas. Mas isso realmente só chega a ser observável em dados muito grandes.\n",
    "\n",
    "Decidir entre o uso de listas ou tuplas dependerá das necessidades específicas do seu programa. Se precisar de uma estrutura que pode ser alterada ou precisa de operações de modificação, as listas são mais adequadas. Caso necessite garantir que os elementos permaneçam constantes, opte pelas tuplas.\n",
    "\n",
    "Agora vamos ao que interessa e entender melhor como são construídas e melhor, como manipular.\n",
    "\n"
   ]
  },
  {
   "attachments": {},
   "cell_type": "markdown",
   "metadata": {},
   "source": [
    "## Listas"
   ]
  },
  {
   "cell_type": "code",
   "execution_count": 1,
   "metadata": {},
   "outputs": [
    {
     "data": {
      "text/plain": [
       "[]"
      ]
     },
     "execution_count": 1,
     "metadata": {},
     "output_type": "execute_result"
    }
   ],
   "source": [
    "# Criando uma lista vazia\n",
    "lista1 = []\n",
    "lista1"
   ]
  },
  {
   "cell_type": "code",
   "execution_count": 2,
   "metadata": {},
   "outputs": [
    {
     "data": {
      "text/plain": [
       "[]"
      ]
     },
     "execution_count": 2,
     "metadata": {},
     "output_type": "execute_result"
    }
   ],
   "source": [
    "# Outra lista vazia\n",
    "lista2 = list()\n",
    "lista2"
   ]
  },
  {
   "cell_type": "code",
   "execution_count": 3,
   "metadata": {},
   "outputs": [
    {
     "data": {
      "text/plain": [
       "list"
      ]
     },
     "execution_count": 3,
     "metadata": {},
     "output_type": "execute_result"
    }
   ],
   "source": [
    "# Como saber se eu criei mesmo uma lista? Lembra da função type?\n",
    "type(lista1)"
   ]
  },
  {
   "cell_type": "code",
   "execution_count": 4,
   "metadata": {},
   "outputs": [
    {
     "data": {
      "text/plain": [
       "['Isso é uma string', 21, 4.5, False, [1, 2, 3]]"
      ]
     },
     "execution_count": 4,
     "metadata": {},
     "output_type": "execute_result"
    }
   ],
   "source": [
    "# Uma lista pode conter elementos de vários tipos distintos. Consegue identificar os tipos de cada um dos valores dessa lista?\n",
    "lista = ['Isso é uma string',21,4.5,False,[1,2,3]]\n",
    "lista"
   ]
  },
  {
   "attachments": {},
   "cell_type": "markdown",
   "metadata": {},
   "source": [
    "Beleza, já sei criar uma lista. Mas e se eu quiser acessar os valores dessa lista ? Eu quero saber qual é o primeiro valor, ou o último, ou o terceiro ? Como fazer? \n",
    "\n",
    "Segue o fio.\n",
    "\n",
    "A primeira coisa que é preciso lembrar é que uma lista possui índices como referência, que significa a ordem dos itens na lista. Mas esse índice começa sempre em 0 e não em 1. Guarda essa informação. Isso pode gerar alguma confusão até você se familiarizar com essa ideia.\n",
    "\n",
    "Para acessar um elemento da lista, usa-se a seguinte sintaxe:\n",
    "\n",
    "    lista[posição]\n",
    "\n",
    "em que no lugar da posição, você escreve um número indicando índice."
   ]
  },
  {
   "cell_type": "code",
   "execution_count": 5,
   "metadata": {},
   "outputs": [
    {
     "data": {
      "text/plain": [
       "'Isso é uma string'"
      ]
     },
     "execution_count": 5,
     "metadata": {},
     "output_type": "execute_result"
    }
   ],
   "source": [
    "# Então, para acessar o primeiro item da lista, podemos usar:\n",
    "lista[0]"
   ]
  },
  {
   "cell_type": "code",
   "execution_count": 6,
   "metadata": {},
   "outputs": [
    {
     "data": {
      "text/plain": [
       "21"
      ]
     },
     "execution_count": 6,
     "metadata": {},
     "output_type": "execute_result"
    }
   ],
   "source": [
    "# E o segundo item:\n",
    "lista[1]\n",
    "\n",
    "# Já entendeu a lógica?"
   ]
  },
  {
   "cell_type": "code",
   "execution_count": 7,
   "metadata": {},
   "outputs": [
    {
     "data": {
      "text/plain": [
       "[1, 2, 3]"
      ]
     },
     "execution_count": 7,
     "metadata": {},
     "output_type": "execute_result"
    }
   ],
   "source": [
    "# E se eu quiser pegar o último elemento? Nesse caso, existem duas opções, se eu não souber o tamanho exato da lista:\n",
    "# A primeira, é usando índices negativos, que começam a contar a partir do final da lista\n",
    "# Mas dessa forma, em vez de começar com 0, começa com -1 (porque não existe -0 né)\n",
    "lista[-1] "
   ]
  },
  {
   "cell_type": "code",
   "execution_count": 8,
   "metadata": {},
   "outputs": [
    {
     "data": {
      "text/plain": [
       "[1, 2, 3]"
      ]
     },
     "execution_count": 8,
     "metadata": {},
     "output_type": "execute_result"
    }
   ],
   "source": [
    "# Outra forma, usando a função len():\n",
    "lista[len(lista)-1]"
   ]
  },
  {
   "attachments": {},
   "cell_type": "markdown",
   "metadata": {},
   "source": [
    "💡 Já conseguiu adivinhar o que a função `len()` faz?\n",
    "\n",
    "`len()` calcula o tamanho de uma lista, ou seja, o número de elementos que existem na lista.\n",
    "Tente executar o código `len(lista)`.\n",
    "No caso, nossa lista tem 5 elementos, e como a contagem começa no 0, e não no 1, o último elemento é o elemento de posição 4. Por isso o -1 na fórmula anterior."
   ]
  },
  {
   "attachments": {},
   "cell_type": "markdown",
   "metadata": {},
   "source": [
    "💡 Outra coisa interessante:\n",
    "\n",
    "Veja que dentro da lista, temos outra lista na posição 4. E se eu quiser acessar os valores dentro dessa lista interna? Funciona da mesma forma. No caso, `lista[-1]` se torna a nova lista, e depois, usamos seguidamente o índice da lista interna, assim: "
   ]
  },
  {
   "cell_type": "code",
   "execution_count": 9,
   "metadata": {},
   "outputs": [
    {
     "data": {
      "text/plain": [
       "1"
      ]
     },
     "execution_count": 9,
     "metadata": {},
     "output_type": "execute_result"
    }
   ],
   "source": [
    "# Esse código vai pegar o primeiro item da lista que se encontra na posição -1:\n",
    "lista[-1][0]"
   ]
  },
  {
   "attachments": {},
   "cell_type": "markdown",
   "metadata": {},
   "source": [
    "### Slicing de listas\n",
    "\n",
    "Em tradução livre do inglês, *slice* seria fatiar. Esse é o termo que se utiliza quando, em vez de pegar apenas um elemento de uma lista, temos interesse em selecionar \"fatias\", ou apenas uma parte da lista.\n",
    "\n",
    "Para isso, usamos a seguinte sintaxe:\n",
    "\n",
    "    lista[início:fim]\n",
    "\n",
    "onde substituímos início pela posição de início e fim pela posição de fim. Aqui, mais uma pegadinha que confunde muita gente: a posição de início está sempre incluída, mas a posição de fim não!"
   ]
  },
  {
   "cell_type": "code",
   "execution_count": 10,
   "metadata": {},
   "outputs": [
    {
     "data": {
      "text/plain": [
       "['Isso é uma string', 21, 4.5]"
      ]
     },
     "execution_count": 10,
     "metadata": {},
     "output_type": "execute_result"
    }
   ],
   "source": [
    "# Então, se quisermos selecionar os três primeiros itens:\n",
    "lista[0:3]"
   ]
  },
  {
   "cell_type": "code",
   "execution_count": 11,
   "metadata": {},
   "outputs": [
    {
     "data": {
      "text/plain": [
       "['Isso é uma string', 21, 4.5]"
      ]
     },
     "execution_count": 11,
     "metadata": {},
     "output_type": "execute_result"
    }
   ],
   "source": [
    "# Outra forma, sempre que queremos partir do início, podemos deixar a posição de início vazia:\n",
    "lista[:3]"
   ]
  },
  {
   "cell_type": "code",
   "execution_count": 12,
   "metadata": {},
   "outputs": [
    {
     "data": {
      "text/plain": [
       "[4.5, False, [1, 2, 3]]"
      ]
     },
     "execution_count": 12,
     "metadata": {},
     "output_type": "execute_result"
    }
   ],
   "source": [
    "# da mesma forma, se deixarmos a posição de final vazia, ele vai percorrer até o final.\n",
    "# Para pegar os últimos três itens:\n",
    "lista[-3:]"
   ]
  },
  {
   "cell_type": "code",
   "execution_count": 13,
   "metadata": {},
   "outputs": [
    {
     "data": {
      "text/plain": [
       "[21, 4.5, False]"
      ]
     },
     "execution_count": 13,
     "metadata": {},
     "output_type": "execute_result"
    }
   ],
   "source": [
    "# Seleciona os itens 2,3,4 (posição 1,2,3):\n",
    "lista[1:4]"
   ]
  },
  {
   "attachments": {},
   "cell_type": "markdown",
   "metadata": {},
   "source": [
    "Outra ferramenta útil com listas é percorrê-la com saltos, por exemplo, quero pegar um valor e pular outro.\n",
    "\n",
    "Assim, a sintaxe seria:\n",
    "\n",
    "    lista[início:fim:salto]\n",
    "\n"
   ]
  },
  {
   "cell_type": "code",
   "execution_count": 14,
   "metadata": {},
   "outputs": [
    {
     "data": {
      "text/plain": [
       "['Isso é uma string', 4.5, [1, 2, 3]]"
      ]
     },
     "execution_count": 14,
     "metadata": {},
     "output_type": "execute_result"
    }
   ],
   "source": [
    "# Se deixarmos ambos posição de início e de fim em branco, o código percorre toda a lista.\n",
    "lista[::2]"
   ]
  },
  {
   "attachments": {},
   "cell_type": "markdown",
   "metadata": {},
   "source": [
    "### Métodos de listas\n",
    "\n",
    "Os métodos são funções embutidas em Python que permitem realizar várias operações e manipulações em objetos do Python. No caso, os métodos de listas oferecem diversas funcionalidades úteis para trabalhar com essas estruturas de dados de forma conveniente. Eles precisam sempre ser aplicados em um objeto do tipo lista, com a seguinte sintaxe genérica:\n",
    "\n",
    "    lista.método(opções do método)\n",
    "\n",
    "Vamos ver na prática alguns métodos e como utilizá-los.\n",
    "\n",
    "* append(elemento): Adiciona um elemento ao final da lista.\n",
    "* insert(índice, elemento): Insere um elemento em uma posição específica da lista. Arrasta os demais itens para a próxima posição.\n",
    "* remove(valor): Remove o primeiro elemento da lista que corresponde ao valor especificado.\n",
    "* pop([índice]): Remove da lista e retorna o elemento da posição especificada (ou o último, se nenhum índice for fornecido).\n",
    "* index(elemento[, start[, end]]): Retorna o índice da primeira ocorrência do elemento especificado dentro de um intervalo opcional.\n",
    "* count(elemento): Conta quantas vezes o elemento aparece na lista.\n",
    "* reverse(): Inverte a ordem dos elementos da lista.\n",
    "* sort(key=None, reverse=False): Ordena a lista em ordem crescente (ou decrescente se reverse=True).\n",
    "* clear(): Remove todos os elementos da lista, deixando-a vazia.\n",
    "\n"
   ]
  },
  {
   "cell_type": "code",
   "execution_count": 15,
   "metadata": {},
   "outputs": [
    {
     "data": {
      "text/plain": [
       "['Isso é uma string', 21, 4.5, False, [1, 2, 3], 'Teste do append']"
      ]
     },
     "execution_count": 15,
     "metadata": {},
     "output_type": "execute_result"
    }
   ],
   "source": [
    "# Adicionar elementos ao final da lista:\n",
    "lista.append(\"Teste do append\")\n",
    "lista"
   ]
  },
  {
   "cell_type": "code",
   "execution_count": 16,
   "metadata": {},
   "outputs": [
    {
     "data": {
      "text/plain": [
       "['Isso é uma string',\n",
       " 'Teste insert na posição 1',\n",
       " 21,\n",
       " 4.5,\n",
       " False,\n",
       " [1, 2, 3],\n",
       " 'Teste do append']"
      ]
     },
     "execution_count": 16,
     "metadata": {},
     "output_type": "execute_result"
    }
   ],
   "source": [
    "# Adicionar elemento na posição 1:\n",
    "lista.insert(1,\"Teste insert na posição 1\")\n",
    "lista"
   ]
  },
  {
   "cell_type": "code",
   "execution_count": 17,
   "metadata": {},
   "outputs": [
    {
     "data": {
      "text/plain": [
       "['Isso é uma string',\n",
       " 'Teste insert na posição 1',\n",
       " 4.5,\n",
       " False,\n",
       " [1, 2, 3],\n",
       " 'Teste do append']"
      ]
     },
     "execution_count": 17,
     "metadata": {},
     "output_type": "execute_result"
    }
   ],
   "source": [
    "# Remover valor 21\n",
    "lista.remove(21)\n",
    "lista"
   ]
  },
  {
   "cell_type": "code",
   "execution_count": 18,
   "metadata": {},
   "outputs": [
    {
     "data": {
      "text/plain": [
       "['Isso é uma string', 'Teste insert na posição 1', 4.5, False, [1, 2, 3]]"
      ]
     },
     "execution_count": 18,
     "metadata": {},
     "output_type": "execute_result"
    }
   ],
   "source": [
    "# Remover o último valor e salvar em uma variável:\n",
    "teste_pop = lista.pop()\n",
    "lista"
   ]
  },
  {
   "cell_type": "code",
   "execution_count": 19,
   "metadata": {},
   "outputs": [
    {
     "data": {
      "text/plain": [
       "'Teste do append'"
      ]
     },
     "execution_count": 19,
     "metadata": {},
     "output_type": "execute_result"
    }
   ],
   "source": [
    "teste_pop"
   ]
  },
  {
   "cell_type": "code",
   "execution_count": 20,
   "metadata": {},
   "outputs": [
    {
     "data": {
      "text/plain": [
       "2"
      ]
     },
     "execution_count": 20,
     "metadata": {},
     "output_type": "execute_result"
    }
   ],
   "source": [
    "# Procurar a posição do valor 4.5\n",
    "lista.index(4.5)"
   ]
  },
  {
   "cell_type": "code",
   "execution_count": 21,
   "metadata": {},
   "outputs": [
    {
     "data": {
      "text/plain": [
       "1"
      ]
     },
     "execution_count": 21,
     "metadata": {},
     "output_type": "execute_result"
    }
   ],
   "source": [
    "# Contar quantas vezes aparece 4.5:\n",
    "lista.count(4.5)"
   ]
  },
  {
   "cell_type": "code",
   "execution_count": 22,
   "metadata": {},
   "outputs": [
    {
     "data": {
      "text/plain": [
       "[[1, 2, 3], False, 4.5, 'Teste insert na posição 1', 'Isso é uma string']"
      ]
     },
     "execution_count": 22,
     "metadata": {},
     "output_type": "execute_result"
    }
   ],
   "source": [
    "# Mostra a lista em ordem inversa:\n",
    "lista.reverse()\n",
    "lista"
   ]
  },
  {
   "cell_type": "code",
   "execution_count": 23,
   "metadata": {},
   "outputs": [
    {
     "data": {
      "text/plain": [
       "[3, 2, 1]"
      ]
     },
     "execution_count": 23,
     "metadata": {},
     "output_type": "execute_result"
    }
   ],
   "source": [
    "# Ordena uma lista (para isso, é preciso que a ordenação faça sentido, comparando números com números e strings com strings):\n",
    "lista[0].sort(reverse=True)\n",
    "lista[0]"
   ]
  },
  {
   "attachments": {},
   "cell_type": "markdown",
   "metadata": {},
   "source": [
    "Sobre este tópico de listas, tenho mais 3 curiosidades:\n",
    "1. Quando atribuímos uma lista existente a outra variável, qualquer modificação em uma lista é carregada para a outra. O que acontece no fundo é que a variável irá referenciar a mesma lista na memória, na realidade não é criada uma nova lista."
   ]
  },
  {
   "cell_type": "code",
   "execution_count": 24,
   "metadata": {},
   "outputs": [
    {
     "data": {
      "text/plain": [
       "[[3, 2, 1], False, 4.5, 'Teste insert na posição 1', 'Isso é uma string']"
      ]
     },
     "execution_count": 24,
     "metadata": {},
     "output_type": "execute_result"
    }
   ],
   "source": [
    "lista2=lista\n",
    "lista2"
   ]
  },
  {
   "cell_type": "code",
   "execution_count": 25,
   "metadata": {},
   "outputs": [
    {
     "data": {
      "text/plain": [
       "[[3, 2, 1], False, 4.5, 'Teste insert na posição 1', 'Isso é uma string', True]"
      ]
     },
     "execution_count": 25,
     "metadata": {},
     "output_type": "execute_result"
    }
   ],
   "source": [
    "# Vamos adicionar um elemento na lista original e ver o que acontece na lista2:\n",
    "lista.append(True)\n",
    "lista2"
   ]
  },
  {
   "cell_type": "code",
   "execution_count": 26,
   "metadata": {},
   "outputs": [
    {
     "data": {
      "text/plain": [
       "[[3, 2, 1],\n",
       " False,\n",
       " 4.5,\n",
       " 'Teste insert na posição 1',\n",
       " 'Isso é uma string',\n",
       " True,\n",
       " 2]"
      ]
     },
     "execution_count": 26,
     "metadata": {},
     "output_type": "execute_result"
    }
   ],
   "source": [
    "# Agora o contrário, vamos adicionar um elemento na lista2 e ver o que acontece na lista original:\n",
    "lista2.append(2)\n",
    "lista"
   ]
  },
  {
   "attachments": {},
   "cell_type": "markdown",
   "metadata": {},
   "source": [
    "Se quiser realmente copiar uma lista, pode-se utilizar um slice indo do início até o final da lista original:"
   ]
  },
  {
   "cell_type": "code",
   "execution_count": 27,
   "metadata": {},
   "outputs": [
    {
     "data": {
      "text/plain": [
       "[[3, 2, 1],\n",
       " False,\n",
       " 4.5,\n",
       " 'Teste insert na posição 1',\n",
       " 'Isso é uma string',\n",
       " True,\n",
       " 2]"
      ]
     },
     "execution_count": 27,
     "metadata": {},
     "output_type": "execute_result"
    }
   ],
   "source": [
    "copia_lista=lista[:]\n",
    "copia_lista"
   ]
  },
  {
   "cell_type": "code",
   "execution_count": 28,
   "metadata": {},
   "outputs": [
    {
     "data": {
      "text/plain": [
       "[[3, 2, 1],\n",
       " False,\n",
       " 4.5,\n",
       " 'Teste insert na posição 1',\n",
       " 'Isso é uma string',\n",
       " True,\n",
       " 2,\n",
       " 'Teste cópia']"
      ]
     },
     "execution_count": 28,
     "metadata": {},
     "output_type": "execute_result"
    }
   ],
   "source": [
    "# Agora vamos adicionar um valor a lista original e ver o que acontece:\n",
    "lista.append(\"Teste cópia\")\n",
    "lista"
   ]
  },
  {
   "cell_type": "code",
   "execution_count": 29,
   "metadata": {},
   "outputs": [
    {
     "data": {
      "text/plain": [
       "[[3, 2, 1],\n",
       " False,\n",
       " 4.5,\n",
       " 'Teste insert na posição 1',\n",
       " 'Isso é uma string',\n",
       " True,\n",
       " 2]"
      ]
     },
     "execution_count": 29,
     "metadata": {},
     "output_type": "execute_result"
    }
   ],
   "source": [
    "copia_lista"
   ]
  },
  {
   "attachments": {},
   "cell_type": "markdown",
   "metadata": {},
   "source": [
    "2. A operação de soma de listas existe e na verdade é o que chamamos de concatenação, ou seja, adiciona os elementos de uma lista na outra.\n"
   ]
  },
  {
   "cell_type": "code",
   "execution_count": 30,
   "metadata": {},
   "outputs": [
    {
     "data": {
      "text/plain": [
       "[[3, 2, 1],\n",
       " False,\n",
       " 4.5,\n",
       " 'Teste insert na posição 1',\n",
       " 'Isso é uma string',\n",
       " True,\n",
       " 2,\n",
       " 'Teste cópia',\n",
       " [3, 2, 1],\n",
       " False,\n",
       " 4.5,\n",
       " 'Teste insert na posição 1',\n",
       " 'Isso é uma string',\n",
       " True,\n",
       " 2]"
      ]
     },
     "execution_count": 30,
     "metadata": {},
     "output_type": "execute_result"
    }
   ],
   "source": [
    "lista+copia_lista"
   ]
  },
  {
   "attachments": {},
   "cell_type": "markdown",
   "metadata": {},
   "source": [
    "3. Para editar elemento na lista, usa-se a seguinte sintaxe a partir da posição:\n",
    "\n",
    "    lista[posicao]=novovalor"
   ]
  },
  {
   "cell_type": "code",
   "execution_count": 31,
   "metadata": {},
   "outputs": [
    {
     "data": {
      "text/plain": [
       "[1,\n",
       " False,\n",
       " 4.5,\n",
       " 'Teste insert na posição 1',\n",
       " 'Isso é uma string',\n",
       " True,\n",
       " 2,\n",
       " 'Teste cópia']"
      ]
     },
     "execution_count": 31,
     "metadata": {},
     "output_type": "execute_result"
    }
   ],
   "source": [
    "# Alterar o primeiro valor para 1:\n",
    "lista[0]=1\n",
    "lista"
   ]
  },
  {
   "cell_type": "code",
   "execution_count": 32,
   "metadata": {},
   "outputs": [
    {
     "data": {
      "text/plain": [
       "[]"
      ]
     },
     "execution_count": 32,
     "metadata": {},
     "output_type": "execute_result"
    }
   ],
   "source": [
    "# Por fim, para limpar uma lista:\n",
    "copia_lista.clear()\n",
    "copia_lista"
   ]
  },
  {
   "attachments": {},
   "cell_type": "markdown",
   "metadata": {},
   "source": [
    "## Tuplas\n",
    "\n",
    "As tuplas são estruturas muito parecidas com Listas. Tudo que vimos sobre criação, utilização de índices e *slicing* funciona da mesma forma com tuplas,. O que muda? Tuplas, depois de criadas não podem ser alteradas, então muitos dos métodos de listas, que alteram sua estrutura, não podem ser usados em tuplas. Os métodos que podem ser aplicados são o `count()`e o `index()`.\n",
    "\n",
    "Vou colocar apenas alguns exemplos de como funcionam as tuplas sem tentar ser repetitivo com o conteúdo de listas, mas fique à vontade para testar outros métodos e verificar o tipo de erro que ocorre."
   ]
  },
  {
   "cell_type": "code",
   "execution_count": 33,
   "metadata": {},
   "outputs": [
    {
     "data": {
      "text/plain": [
       "()"
      ]
     },
     "execution_count": 33,
     "metadata": {},
     "output_type": "execute_result"
    }
   ],
   "source": [
    "# Criando uma tupla vazia\n",
    "tupla1 = ()\n",
    "tupla1"
   ]
  },
  {
   "cell_type": "code",
   "execution_count": 34,
   "metadata": {},
   "outputs": [
    {
     "data": {
      "text/plain": [
       "(1,\n",
       " False,\n",
       " 4.5,\n",
       " 'Teste insert na posição 1',\n",
       " 'Isso é uma string',\n",
       " True,\n",
       " 2,\n",
       " 'Teste cópia')"
      ]
     },
     "execution_count": 34,
     "metadata": {},
     "output_type": "execute_result"
    }
   ],
   "source": [
    "# Outra tupla, criada a partir de uma lista\n",
    "tupla = tuple(lista)\n",
    "tupla\n",
    "\n",
    "# Uma lista também pode ser criada a partir de uma tupla, quer tentar ?"
   ]
  },
  {
   "cell_type": "code",
   "execution_count": 35,
   "metadata": {},
   "outputs": [
    {
     "data": {
      "text/plain": [
       "tuple"
      ]
     },
     "execution_count": 35,
     "metadata": {},
     "output_type": "execute_result"
    }
   ],
   "source": [
    "type(tupla)"
   ]
  },
  {
   "cell_type": "code",
   "execution_count": 36,
   "metadata": {},
   "outputs": [
    {
     "data": {
      "text/plain": [
       "1"
      ]
     },
     "execution_count": 36,
     "metadata": {},
     "output_type": "execute_result"
    }
   ],
   "source": [
    "# acessar o primeiro item da tupla, podemos usar:\n",
    "tupla[0]"
   ]
  },
  {
   "cell_type": "code",
   "execution_count": 37,
   "metadata": {},
   "outputs": [
    {
     "data": {
      "text/plain": [
       "8"
      ]
     },
     "execution_count": 37,
     "metadata": {},
     "output_type": "execute_result"
    }
   ],
   "source": [
    "# tamanho da tupla\n",
    "len(tupla)"
   ]
  },
  {
   "cell_type": "code",
   "execution_count": 38,
   "metadata": {},
   "outputs": [
    {
     "data": {
      "text/plain": [
       "(1, False, 4.5)"
      ]
     },
     "execution_count": 38,
     "metadata": {},
     "output_type": "execute_result"
    }
   ],
   "source": [
    "# selecionar os três primeiros itens:\n",
    "tupla[0:3]"
   ]
  },
  {
   "cell_type": "code",
   "execution_count": 39,
   "metadata": {},
   "outputs": [
    {
     "ename": "TypeError",
     "evalue": "'tuple' object does not support item assignment",
     "output_type": "error",
     "traceback": [
      "\u001b[1;31m---------------------------------------------------------------------------\u001b[0m",
      "\u001b[1;31mTypeError\u001b[0m                                 Traceback (most recent call last)",
      "\u001b[1;32mc:\\Users\\olima\\Documents\\Python\\Basics\\Python-listas-e-tuplas.ipynb Cell 52\u001b[0m in \u001b[0;36m<cell line: 2>\u001b[1;34m()\u001b[0m\n\u001b[0;32m      <a href='vscode-notebook-cell:/c%3A/Users/olima/Documents/Python/Basics/Python-listas-e-tuplas.ipynb#Y102sZmlsZQ%3D%3D?line=0'>1</a>\u001b[0m \u001b[39m# agora, vamos tentar editar o primeiro item da tupla:\u001b[39;00m\n\u001b[1;32m----> <a href='vscode-notebook-cell:/c%3A/Users/olima/Documents/Python/Basics/Python-listas-e-tuplas.ipynb#Y102sZmlsZQ%3D%3D?line=1'>2</a>\u001b[0m tupla[\u001b[39m0\u001b[39m]\u001b[39m=\u001b[39m\u001b[39m0\u001b[39m\n",
      "\u001b[1;31mTypeError\u001b[0m: 'tuple' object does not support item assignment"
     ]
    }
   ],
   "source": [
    "# agora, vamos tentar editar o primeiro item da tupla:\n",
    "tupla[0]=0"
   ]
  },
  {
   "cell_type": "code",
   "execution_count": null,
   "metadata": {},
   "outputs": [],
   "source": [
    "# método count\n",
    "tupla.count(False)"
   ]
  },
  {
   "cell_type": "code",
   "execution_count": null,
   "metadata": {},
   "outputs": [],
   "source": [
    "# método index\n",
    "tupla.index(4.5)"
   ]
  },
  {
   "cell_type": "markdown",
   "metadata": {},
   "source": []
  }
 ],
 "metadata": {
  "kernelspec": {
   "display_name": "Python 3",
   "language": "python",
   "name": "python3"
  },
  "language_info": {
   "codemirror_mode": {
    "name": "ipython",
    "version": 3
   },
   "file_extension": ".py",
   "mimetype": "text/x-python",
   "name": "python",
   "nbconvert_exporter": "python",
   "pygments_lexer": "ipython3",
   "version": "3.10.5"
  },
  "orig_nbformat": 4
 },
 "nbformat": 4,
 "nbformat_minor": 2
}
