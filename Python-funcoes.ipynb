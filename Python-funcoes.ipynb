{
 "cells": [
  {
   "attachments": {},
   "cell_type": "markdown",
   "metadata": {},
   "source": [
    "# Funções\n",
    "\n",
    "Senta que lá vem textão.\n",
    "\n",
    "Nos [primeiros passos](Python-primeiros-passos.ipynb) eu já escrevi uma noção do que são funções, e a essa altura você já deve ter utilizado algumas funções (print, len, type, range...). Mas para quem caiu aqui de paraquedas, vamos pensar nas funções como pequenos assistentes pessoais. Eu sei que você é uma pessoa extremamente ocupada, tentando equilibrar um zilhão de tarefas diárias, desde fazer um café da manhã delicioso até dar um show de código no GitHub! 😎\n",
    "\n",
    "Agora, que tal ter uma equipe de assistentes super eficientes para te ajudar em cada uma dessas tarefas? Cada assistente é responsável por uma função específica: fazer café, preparar um sanduíche, lavar a louça, alimentar o seu gato... Esses assistentes são tão incríveis que você só precisa chamar o nome deles para que entrem em ação. Eles sabem exatamente o que fazer, sem você precisar se preocupar com os detalhes internos de cada tarefa e sem ter que ensiná-los repetidamente como fazer a tarefa. Maravilhoso, não é mesmo?\n",
    "\n",
    "Em resumo, as funções vão te ajudar a não ter que repetir o mesmo trecho de código várias vezes para executar uma mesma ação. Em Python, existem funções que são nativas, ou seja, já vêm com a instalação básica do Python, como é o caso de `print()`. Fora isso, existem funções que estão associadas a pacotes específicos, que podem ser baixados e instalados na sua máquina e também é possível criar suas próprias funções customizadas. É sobre isso que vamos falar aqui. Mas como ?\n",
    "\n"
   ]
  },
  {
   "attachments": {},
   "cell_type": "markdown",
   "metadata": {},
   "source": [
    "**Comando Def: O Poder Mágico Para Criar Suas Próprias Funções! 📜**\n",
    "\n",
    "O comando \"def\" é o portal que nos permite dar vida aos nossos assistentes (funções)! Ele nos permite definir o nome do assistente e suas ações (código), que serão executadas sempre que ele for chamado.\n",
    "\n",
    "A estrutura do comando que permite criar funções personalizadas em python é a seguinte:\n",
    "\n",
    "    def nomedafuncao(nomes_argumentos):\n",
    "        ações que a função executa\n",
    "\n",
    "Podemos pensar nos argumentos (ou parâmetros) de entrada da função como se fossem os insumos necessários para que a ação seja executada. É também possível que uma função não precise de argumentos.\n",
    "\n",
    "Vamos então começar com os exemplos práticos para criar funções, mas se preparem: aqui vamos começar a juntar vários conceitos de programação em Python. Quem precisar revisar, veja aqui:\n",
    "\n",
    "* [Primeiros passos](Python-primeiros-passos.ipynb): Aqui você vai aprender como imprimir informações na tela, como lidar com variáveis e quais são os principais tipos, como fazer operações aritméticas, como solicitar informações dos usuários e como importar pacotes.\n",
    "\n",
    "* [Comparações e operadores lógicos](Python-comparacoes-operadores-logicos.ipynb): Aprenda a realizar comparações entre dois valores, o que vai resultar em um valor booleano, e então fazer operações com esses valores.\n",
    "\n",
    "* [Listas e tuplas](Python-listas-e-tuplas.ipynb): Tudo o que você precisa saber para começar o aprendizado sobre essas estruturas de dados que permitem armazenar informações de uma maneira agrupada ou sequencial em uma única variável.\n",
    "\n",
    "* [Estruturas condicional e de repetição](Python-estrutura-repeticao-condicional.ipynb): são estruturas usadas para controlar o fluxo de um programa, permitindo que diferentes blocos de código sejam executados com base no resultado da avaliação de uma ou mais expressões lógicas ou que sejam repetidos, sem precisar reescrevê-los.\n",
    "\n"
   ]
  },
  {
   "attachments": {},
   "cell_type": "markdown",
   "metadata": {},
   "source": [
    "## Exemplo: despertador\n",
    "\n",
    "O primeiro assistente que você precisa no seu dia, é um despertador, certo? Pensando no despertador que você configura no seu smartphone, qual seria o **parâmetro de entrada** de uma função de despertador? A hora para despertar, correto?\n",
    "\n",
    "Então:"
   ]
  },
  {
   "cell_type": "code",
   "execution_count": 1,
   "metadata": {},
   "outputs": [],
   "source": [
    "def despertador(hora):\n",
    "    print(f\"Acorde! São {hora} horas.\")"
   ]
  },
  {
   "attachments": {},
   "cell_type": "markdown",
   "metadata": {},
   "source": [
    "Ué, criei a função e nada aconteceu? Calma, lembra que é preciso \"chamar\" seu assistente?\n",
    "\n",
    "Para chamar uma função em python, usamos o nome da função e o seu argumento\n",
    "\n",
    "    nomedafuncao(valordoargumento)\n",
    "\n",
    "\n",
    "Vamos então chamar o despertador"
   ]
  },
  {
   "cell_type": "code",
   "execution_count": 2,
   "metadata": {},
   "outputs": [
    {
     "name": "stdout",
     "output_type": "stream",
     "text": [
      "Acorde! São 8 horas.\n"
     ]
    }
   ],
   "source": [
    "despertador(8)"
   ]
  },
  {
   "attachments": {},
   "cell_type": "markdown",
   "metadata": {},
   "source": [
    "Pronto, você acabou de executar sua primeira função.\n",
    "\n",
    "Agora vamos complicar e implementar mais funcionalidades. Por exemplo, a função soneca. Geralmente, os despertadores têm uma opção de adiar o alarme por mais alguns minutos. Esse valor, que geralmente é padrão, você não precisa informar, mas se quiser, pode alterá-lo nas configurações.\n",
    "\n",
    "Nas funções do Python, também é possível utilizar um parâmetro em uma função que já tenha um valor padrão ou default. O que significa que na hora de chamar a função, não é necessário passar um valor para esse parâmetro.\n",
    "\n",
    "A estrutura de definição seria a seguinte, sempre primeiro com os parâmetros posicionais (que precisam de um valor), seguidos pelos argumentos com valores pré-definidos:\n",
    "\n",
    "    def nomedafuncao(argumento1,argumento2=valordefault):\n",
    "        ações da função\n",
    "\n",
    "Observe que uma função pode receber quantos argumentos forem necessários. Na verdade eu nem sei se existe um limite de argumentos no Python, mas se existir e você quebrar esse limite, eu te aconselharia realmente a  reescrever seu código de uma maneira mais simples. Pense no usuário declarando 1000 argumentos para chamar uma função. Não faz muito sentido, não é mesmo?\n",
    "\n",
    "Agora vamos implementar o despertador com a função de soneca, e aqui, conforme avisado, vou começar a incluir vários outros conceitos. Mas fica esperto e segue o passo a passo que vai dar tudo certo.\n"
   ]
  },
  {
   "cell_type": "code",
   "execution_count": 3,
   "metadata": {},
   "outputs": [],
   "source": [
    "# Implementando o despertador com a função soneca:\n",
    "\n",
    "def despertador(hora,minutos=0,soneca=10):\n",
    "    \"\"\"\n",
    "    Sempre que quisermos documentar uma função, podemos usar 3 aspas dentro do comando def.\n",
    "    Esse texto aparecerá quando utilizarmos o help da função e é útil para ensinar o usuário como bem utilizar sua função.\n",
    "    Como boa prática, vamos tentar descrever os parâmetros necessários para ela funcionar.\n",
    "    \n",
    "    Parâmetros:\n",
    "    hora: número inteiro em horas. Valores aceitos: entre 0 e 23.\n",
    "    minutos: número inteiro em minutos, default é de 0 minutos. Valores aceitos: entre 0 e 59.\n",
    "    soneca: número inteiro em minutos, default é de 10 minutos. Valores aceitos: entre 0 e 15\n",
    "    \"\"\"\n",
    "    # Aqui começa o desenvolvimento da função.\n",
    "    # Primeiro passo: validar os valores dos parâmetros\n",
    "    if minutos >=60 or minutos < 0 or hora > 23 or hora < 0 or soneca < 0 or soneca > 15:\n",
    "        # Se pelo menos um dos valores está fora do esperado, imprime uma mensagem de erro e encerra o programa.\n",
    "        print(\"Minutos deve ser menor que 60, hora deve estar entre 0 e 23 e soneca deve ser menor que 15. Tente novamente!\")\n",
    "    else:\n",
    "        # Se os valores estão ok, então o despertador vai funcionar na hora e minuto indicados ao chamar a função\n",
    "        print(f\"Acorde! São {int(hora)}h{int(minutos)}.\")\n",
    "\n",
    "        # Mas também vai perguntar ao usuário se ele quer ativar soneca, usando a função input:\n",
    "        ativar_soneca = input(\"Deseja ativar soneca? Digite 'S' para sim ou 'N' para desativar o alarme\")\n",
    "\n",
    "        # Nesse caso, vamos aceitar apenas S ou N como resposta.\n",
    "        # Então o segundo passo é: checar se a resposta para soneca é igual a S ou N\n",
    "        while ativar_soneca not in (\"S\",\"N\"): # esse loop vai acontecer enquanto a resposta for diferente de S ou N\n",
    "            ativar_soneca = input(\"Valor inválido. Deseja ativar soneca? Digite 'S' para sim ou 'N' para desativar o alarme\")\n",
    "\n",
    "        # Para passar para a próxima etapa, o usuário precisa ter digitado S ou N\n",
    "        if ativar_soneca==\"S\": \n",
    "            # Se o usuário digitou S, vamos adicionar os minutos previstos na soneca\n",
    "            minutos = minutos + soneca \n",
    "\n",
    "            # Se ao somar os minutos, continuar menor que 60, vamos chamar novamente a própria função dentro dela mesma.\n",
    "            if minutos < 60:\n",
    "                despertador(hora,minutos,soneca) # o ato de chamar a própria função dentro dela mesma é conhecido como recursão\n",
    "\n",
    "            # Se ao somar os minutos, o resultado for maior que 60, vai ser necessário atualizar as horas também.\n",
    "            else:\n",
    "                # Atualizando as horas para adicionar o valor inteiro da divisão dos minutos atualizados com a soneca por 60\n",
    "                hora = hora + minutos // 60\n",
    "\n",
    "                # Atualizando os minutos com o resto da divisão por 60\n",
    "                minutos = minutos % 60\n",
    "\n",
    "                # Aqui, mais um caso específico para tratamento\n",
    "                # Se ao somar a hora, ela ficar maior que 23, vamos realizar o mesmo cálculo de utilizar o resto da divisão de hora por 24\n",
    "                if hora > 23:\n",
    "                    hora = hora % 24\n",
    "\n",
    "                # E chamar a função despertador com esses valores atualizados\n",
    "                despertador(hora,minutos,soneca)\n",
    "        \n",
    "        # Por fim, quando o usuário diz que não quer mais a função soneca, o alarme é encerrado.\n",
    "        else:\n",
    "            print(\"Alarme desativado\")\n",
    "\n"
   ]
  },
  {
   "cell_type": "code",
   "execution_count": 4,
   "metadata": {},
   "outputs": [
    {
     "name": "stdout",
     "output_type": "stream",
     "text": [
      "\u001b[1;31mSignature:\u001b[0m \u001b[0mdespertador\u001b[0m\u001b[1;33m(\u001b[0m\u001b[0mhora\u001b[0m\u001b[1;33m,\u001b[0m \u001b[0mminutos\u001b[0m\u001b[1;33m=\u001b[0m\u001b[1;36m0\u001b[0m\u001b[1;33m,\u001b[0m \u001b[0msoneca\u001b[0m\u001b[1;33m=\u001b[0m\u001b[1;36m10\u001b[0m\u001b[1;33m)\u001b[0m\u001b[1;33m\u001b[0m\u001b[1;33m\u001b[0m\u001b[0m\n",
      "\u001b[1;31mDocstring:\u001b[0m\n",
      "Sempre que quisermos documentar uma função, podemos usar 3 aspas dentro do comando def.\n",
      "Esse texto aparecerá quando utilizarmos o help da função e é útil para ensinar o usuário como bem utilizar sua função.\n",
      "Como boa prática, vamos tentar descrever os parâmetros necessários para ela funcionar.\n",
      "\n",
      "Parâmetros:\n",
      "hora: número inteiro em horas. Valores aceitos: entre 0 e 23.\n",
      "minutos: número inteiro em minutos, default é de 0 minutos. Valores aceitos: entre 0 e 59.\n",
      "soneca: número inteiro em minutos, default é de 10 minutos. Valores aceitos: entre 0 e 15\n",
      "\u001b[1;31mFile:\u001b[0m      c:\\users\\olima\\appdata\\local\\temp\\ipykernel_35780\\1403955229.py\n",
      "\u001b[1;31mType:\u001b[0m      function\n"
     ]
    }
   ],
   "source": [
    "# Veja o texto da docstring da função \n",
    "?despertador"
   ]
  },
  {
   "attachments": {},
   "cell_type": "markdown",
   "metadata": {},
   "source": [
    "Agora vamos testar a função."
   ]
  },
  {
   "cell_type": "code",
   "execution_count": 5,
   "metadata": {},
   "outputs": [
    {
     "name": "stdout",
     "output_type": "stream",
     "text": [
      "Minutos deve ser menor que 60, hora deve estar entre 0 e 23 e soneca deve ser menor que 15. Tente novamente!\n"
     ]
    }
   ],
   "source": [
    "# Primeiro, vamos testar o valor de hora fora do intervalo especificado\n",
    "despertador(24)"
   ]
  },
  {
   "cell_type": "code",
   "execution_count": 6,
   "metadata": {},
   "outputs": [
    {
     "name": "stdout",
     "output_type": "stream",
     "text": [
      "Acorde! São 8h0.\n",
      "Alarme desativado\n"
     ]
    }
   ],
   "source": [
    "despertador(8) # Entrada: \"N\". Não ativou a função soneca"
   ]
  },
  {
   "cell_type": "code",
   "execution_count": 7,
   "metadata": {},
   "outputs": [
    {
     "name": "stdout",
     "output_type": "stream",
     "text": [
      "Acorde! São 8h0.\n",
      "Acorde! São 8h10.\n",
      "Alarme desativado\n"
     ]
    }
   ],
   "source": [
    "despertador(8) # Entrada: \"S\" na primeira vez e \"N\" na segunda vez. Ativou a função soneca uma vez"
   ]
  },
  {
   "cell_type": "code",
   "execution_count": 8,
   "metadata": {},
   "outputs": [
    {
     "name": "stdout",
     "output_type": "stream",
     "text": [
      "Acorde! São 8h40.\n",
      "Acorde! São 8h50.\n",
      "Acorde! São 9h0.\n",
      "Alarme desativado\n"
     ]
    }
   ],
   "source": [
    "despertador(8,40) # Entrada: \"S\" nas duas primeiras e \"N\" na segunda vez. Ativou a função soneca duas vezes"
   ]
  },
  {
   "attachments": {},
   "cell_type": "markdown",
   "metadata": {},
   "source": [
    "Legal, essa função já deu para explorar várias formas em que você pode mudar o comportamento de um código com base em ações do usuário. Como exercício, tente incluir na função anterior uma saudação \"Bom dia\", \"Boa tarde\" ou \"Boa noite\", conforme a hora do despertador.\n",
    "\n",
    "Para finalizar, vamos construir outro exemplo, uma função para criar uma lista de compras. Aqui vai ser possível ver a interação de uma função com listas, bem como outros comandos que são importantes e que executam ações especiais no código, como return, pass, break, continue."
   ]
  },
  {
   "attachments": {},
   "cell_type": "markdown",
   "metadata": {},
   "source": [
    "## Exemplo: lista de compras\n",
    "\n",
    "Vamos começar de forma simples, a função vai receber um produto e adicionar em uma lista de compras.\n",
    "\n",
    "Vou aproveitar para introduzir o comando return:  a não ser que algo diga explicitamente o contrário, todas as variáveis que são utilizadas dentro de uma função só funcionam dentro do contexto da função. Ou seja, no exemplo anterior, se eu tentar acessar a variável minutos, ela não vai existir:"
   ]
  },
  {
   "cell_type": "code",
   "execution_count": 9,
   "metadata": {},
   "outputs": [
    {
     "ename": "NameError",
     "evalue": "name 'minutos' is not defined",
     "output_type": "error",
     "traceback": [
      "\u001b[1;31m---------------------------------------------------------------------------\u001b[0m",
      "\u001b[1;31mNameError\u001b[0m                                 Traceback (most recent call last)",
      "\u001b[1;32mc:\\Users\\olima\\Documents\\Python\\Basics\\Python-funcoes.ipynb Cell 17\u001b[0m in \u001b[0;36m<cell line: 1>\u001b[1;34m()\u001b[0m\n\u001b[1;32m----> <a href='vscode-notebook-cell:/c%3A/Users/olima/Documents/Python/Basics/Python-funcoes.ipynb#X22sZmlsZQ%3D%3D?line=0'>1</a>\u001b[0m minutos\n",
      "\u001b[1;31mNameError\u001b[0m: name 'minutos' is not defined"
     ]
    }
   ],
   "source": [
    "minutos"
   ]
  },
  {
   "attachments": {},
   "cell_type": "markdown",
   "metadata": {},
   "source": [
    "### return\n",
    "O comando return permite então que variáveis utilizadas no contexto da função possam ser salvas em uma variável fora da função.\n",
    "\n",
    "A sintaxe é assim:\n",
    "\n",
    "    def nomedafuncao(argumentos):\n",
    "        resultado = alguma manipulação de argumentos\n",
    "        return resultado\n",
    "\n",
    "Agora, podemos ver o resultado se chamarmos a função e atribuir sua saída a uma variável, assim:\n",
    "\n",
    "    saida = nomedafuncao(argumentos)\n",
    "\n",
    "Isso vai permitir que, ao consultar o valor \"saida\", vejamos qualquer que seja a manipulação (soma, multiplicação ou qualquer outra coisa) que foi realizada dentro da função e salva dentro da variável interna resultado.\n",
    "\n",
    "Importante mencionar que o return finaliza o código. Então tudo que tiver depois do return, não será executado.\n",
    "\n",
    "Também, o return pode trazer mais de uma variável, bastando para isso separá-las por vírgulas. O retorno para o usuário será em formato de tupla.\n",
    "\n",
    "Vamos ao exemplo da lista de compras."
   ]
  },
  {
   "cell_type": "code",
   "execution_count": 10,
   "metadata": {},
   "outputs": [],
   "source": [
    "def lista_compras(produto,lista=[]):\n",
    "    \"\"\"\n",
    "    A função recebe como argumentos um produto e uma lista, que por default está vazia.\n",
    "    \"\"\"\n",
    "\n",
    "    # Adicionando o produto à lista, utilizando o método de listas append()\n",
    "    lista.append(produto)\n",
    "\n",
    "    # imprime que o produto foi adicionado\n",
    "    print(f\"'{produto}' adicionado na lista de compras.\")\n",
    "\n",
    "    # Introduzindo o conceito de return\n",
    "    return lista\n"
   ]
  },
  {
   "cell_type": "code",
   "execution_count": 11,
   "metadata": {},
   "outputs": [
    {
     "name": "stdout",
     "output_type": "stream",
     "text": [
      "'batata' adicionado na lista de compras.\n"
     ]
    }
   ],
   "source": [
    "lista_final=lista_compras(\"batata\")"
   ]
  },
  {
   "attachments": {},
   "cell_type": "markdown",
   "metadata": {},
   "source": [
    "Agora, para visualizar o resultado, vamos ver o que a variável lista_final contém:"
   ]
  },
  {
   "cell_type": "code",
   "execution_count": 12,
   "metadata": {},
   "outputs": [
    {
     "data": {
      "text/plain": [
       "['batata']"
      ]
     },
     "execution_count": 12,
     "metadata": {},
     "output_type": "execute_result"
    }
   ],
   "source": [
    "lista_final"
   ]
  },
  {
   "attachments": {},
   "cell_type": "markdown",
   "metadata": {},
   "source": [
    "Ok, agora se eu quiser adicionar mais produtos à lista_final, como foi possível salvá-la fora da função, eu posso usá-la como argumento para o próximo produto, caso contrário, seria criada uma nova lista vazia com um novo produto:"
   ]
  },
  {
   "cell_type": "code",
   "execution_count": 13,
   "metadata": {},
   "outputs": [
    {
     "name": "stdout",
     "output_type": "stream",
     "text": [
      "'cenoura' adicionado na lista de compras.\n"
     ]
    }
   ],
   "source": [
    "# Vamos atualizar a lista_final\n",
    "lista_final=lista_compras(\"cenoura\",lista_final)"
   ]
  },
  {
   "cell_type": "code",
   "execution_count": 14,
   "metadata": {},
   "outputs": [
    {
     "data": {
      "text/plain": [
       "['batata', 'cenoura']"
      ]
     },
     "execution_count": 14,
     "metadata": {},
     "output_type": "execute_result"
    }
   ],
   "source": [
    "# E verificar seu resultado\n",
    "lista_final"
   ]
  },
  {
   "attachments": {},
   "cell_type": "markdown",
   "metadata": {},
   "source": [
    "Boa. Agora suponha que você precisa excluir um produto da sua lista. A função lista_compras agora terá duas funcionalidades, adicionar um elemento e excluir um elemento de uma lista. Vamos atualizar a função para perguntar ao usuário qual ação ele deseja executar.\n",
    "\n",
    "Aproveitando para incluir o comando break.\n"
   ]
  },
  {
   "attachments": {},
   "cell_type": "markdown",
   "metadata": {},
   "source": [
    "### break\n",
    "\n",
    "O comando break pode ser usado dentro de uma estrutura de repetição while ou for, e serve para que o programa interrompa imediatamente o laço de repetição. Tudo que estiver depois do break não chega nem a ser executado."
   ]
  },
  {
   "cell_type": "code",
   "execution_count": 15,
   "metadata": {},
   "outputs": [],
   "source": [
    "def lista_compras(lista=[]):\n",
    "    \"\"\"\n",
    "    A função recebe como argumento uma lista, que por default está vazia.\n",
    "    \"\"\"\n",
    "    \n",
    "    # Incluindo uma condição para permitir várias interações dentro de apenas um chamado na função\n",
    "    while True:\n",
    "        # Imprimindo as instruções de uso para o usuário\n",
    "        print(\"------ Lista de Compras ------\")\n",
    "        print(\"1 - Adicionar item\")\n",
    "        print(\"2 - Remover item\")\n",
    "        print(\"3 - Sair da lista\")\n",
    "        \n",
    "        # Recolhendo a escolha do usuário\n",
    "        escolha = int(input(\"Escolha uma opção: \"))\n",
    "\n",
    "        # Se o usuário escolhe adicionar um elemento, o código é parecido com o anterior\n",
    "        if escolha == 1 :\n",
    "            # Pede para o usuário o produto a ser adicionado:\n",
    "            produto = input(\"Qual produto deseja adicionar? \")\n",
    "\n",
    "            # Usa o método append() para incluir o produto no final da lista\n",
    "            lista.append(produto)\n",
    "            print(f\"'{produto}' adicionado na lista de compras.\")\n",
    "\n",
    "\n",
    "        # Se o usuário escolhe remover um elemento:\n",
    "        elif escolha == 2 :\n",
    "            # Pede para o usuário o produto que deseja remover\n",
    "            produto = input(\"Qual produto deseja remover? \")\n",
    "\n",
    "            # Usa o método remove() para remover a primeira aparição do produto.\n",
    "            lista.remove(produto)\n",
    "            print(f\"'{produto}' removido da lista de compras.\")\n",
    "\n",
    "        \n",
    "        # Se o usuário escolhe sair da lista, nada é feito e a função termina\n",
    "        \n",
    "        elif escolha == 3:\n",
    "            print(\"Finalizando lista de compras...\")\n",
    "            break # Esse break aqui é o que vai quebrar o loop infinito do while True\n",
    "            print(\"Print para ver o que acontece depois do break\")\n",
    "\n",
    "        # Se o usuário digitar qualquer coisa além das opções disponíveis, Inicia uma nova iteração\n",
    "        else:\n",
    "            print(\"Opção inválida! Tente novamente.\")\n",
    "\n",
    "    return lista\n"
   ]
  },
  {
   "attachments": {},
   "cell_type": "markdown",
   "metadata": {},
   "source": [
    "Ok, vamos testar para incluir produtos\n"
   ]
  },
  {
   "cell_type": "code",
   "execution_count": 16,
   "metadata": {},
   "outputs": [
    {
     "name": "stdout",
     "output_type": "stream",
     "text": [
      "------ Lista de Compras ------\n",
      "1 - Adicionar item\n",
      "2 - Remover item\n",
      "3 - Sair da lista\n",
      "'batata' adicionado na lista de compras.\n",
      "------ Lista de Compras ------\n",
      "1 - Adicionar item\n",
      "2 - Remover item\n",
      "3 - Sair da lista\n",
      "'cenoura' adicionado na lista de compras.\n",
      "------ Lista de Compras ------\n",
      "1 - Adicionar item\n",
      "2 - Remover item\n",
      "3 - Sair da lista\n",
      "Finalizando lista de compras...\n"
     ]
    }
   ],
   "source": [
    "lista_final=lista_compras()\n",
    "# Entradas: \n",
    "# 1, batata \n",
    "# 1, cenoura  \n",
    "# 3 --> observe que o print após o break não chega nem a ser executado\n"
   ]
  },
  {
   "cell_type": "code",
   "execution_count": 17,
   "metadata": {},
   "outputs": [
    {
     "data": {
      "text/plain": [
       "['batata', 'cenoura']"
      ]
     },
     "execution_count": 17,
     "metadata": {},
     "output_type": "execute_result"
    }
   ],
   "source": [
    "lista_final\n"
   ]
  },
  {
   "attachments": {},
   "cell_type": "markdown",
   "metadata": {},
   "source": [
    "Agora para remover, será que vai funcionar ? Vamos testar, colocando como argumento nossa lista criada anteriormente\n",
    "\n"
   ]
  },
  {
   "cell_type": "code",
   "execution_count": 18,
   "metadata": {},
   "outputs": [
    {
     "name": "stdout",
     "output_type": "stream",
     "text": [
      "------ Lista de Compras ------\n",
      "1 - Adicionar item\n",
      "2 - Remover item\n",
      "3 - Sair da lista\n",
      "'batata' removido da lista de compras.\n",
      "------ Lista de Compras ------\n",
      "1 - Adicionar item\n",
      "2 - Remover item\n",
      "3 - Sair da lista\n"
     ]
    },
    {
     "ename": "ValueError",
     "evalue": "list.remove(x): x not in list",
     "output_type": "error",
     "traceback": [
      "\u001b[1;31m---------------------------------------------------------------------------\u001b[0m",
      "\u001b[1;31mValueError\u001b[0m                                Traceback (most recent call last)",
      "\u001b[1;32mc:\\Users\\olima\\Documents\\Python\\Basics\\Python-funcoes.ipynb Cell 33\u001b[0m in \u001b[0;36m<cell line: 1>\u001b[1;34m()\u001b[0m\n\u001b[1;32m----> <a href='vscode-notebook-cell:/c%3A/Users/olima/Documents/Python/Basics/Python-funcoes.ipynb#X44sZmlsZQ%3D%3D?line=0'>1</a>\u001b[0m lista_compras(lista_final)\n",
      "\u001b[1;32mc:\\Users\\olima\\Documents\\Python\\Basics\\Python-funcoes.ipynb Cell 33\u001b[0m in \u001b[0;36mlista_compras\u001b[1;34m(lista)\u001b[0m\n\u001b[0;32m     <a href='vscode-notebook-cell:/c%3A/Users/olima/Documents/Python/Basics/Python-funcoes.ipynb#X44sZmlsZQ%3D%3D?line=29'>30</a>\u001b[0m     produto \u001b[39m=\u001b[39m \u001b[39minput\u001b[39m(\u001b[39m\"\u001b[39m\u001b[39mQual produto deseja remover? \u001b[39m\u001b[39m\"\u001b[39m)\n\u001b[0;32m     <a href='vscode-notebook-cell:/c%3A/Users/olima/Documents/Python/Basics/Python-funcoes.ipynb#X44sZmlsZQ%3D%3D?line=31'>32</a>\u001b[0m     \u001b[39m# Usa o método remove() para remover a primeira aparição do produto.\u001b[39;00m\n\u001b[1;32m---> <a href='vscode-notebook-cell:/c%3A/Users/olima/Documents/Python/Basics/Python-funcoes.ipynb#X44sZmlsZQ%3D%3D?line=32'>33</a>\u001b[0m     lista\u001b[39m.\u001b[39;49mremove(produto)\n\u001b[0;32m     <a href='vscode-notebook-cell:/c%3A/Users/olima/Documents/Python/Basics/Python-funcoes.ipynb#X44sZmlsZQ%3D%3D?line=33'>34</a>\u001b[0m     \u001b[39mprint\u001b[39m(\u001b[39mf\u001b[39m\u001b[39m\"\u001b[39m\u001b[39m'\u001b[39m\u001b[39m{\u001b[39;00mproduto\u001b[39m}\u001b[39;00m\u001b[39m'\u001b[39m\u001b[39m removido da lista de compras.\u001b[39m\u001b[39m\"\u001b[39m)\n\u001b[0;32m     <a href='vscode-notebook-cell:/c%3A/Users/olima/Documents/Python/Basics/Python-funcoes.ipynb#X44sZmlsZQ%3D%3D?line=36'>37</a>\u001b[0m \u001b[39m# Se o usuário escolhe sair da lista, nada é feito e a função termina\u001b[39;00m\n",
      "\u001b[1;31mValueError\u001b[0m: list.remove(x): x not in list"
     ]
    }
   ],
   "source": [
    "lista_compras(lista_final)\n",
    "# Entradas: \n",
    "# 2, batata \n",
    "# 2, peixe --> observe que se o item não está na lista, o python não consegue executar, mostra um erro e sai do programa\n"
   ]
  },
  {
   "attachments": {},
   "cell_type": "markdown",
   "metadata": {},
   "source": [
    "Como corrigir esse comportamento? Uma opção é o tratamento de exceções com try e except."
   ]
  },
  {
   "attachments": {},
   "cell_type": "markdown",
   "metadata": {},
   "source": [
    "### try / except\n",
    "\n",
    "No exemplo anterior, a função teve o comportamento esperado quando fornecemos exatamento o tipo de dado que ela esperava.\n",
    "A mensagem de erro que apareceu não foi nem de lógica nem de sintaxe. Esse tipo de erro, que ocasiona a interrupção do programa, é conhecido como exceção.\n",
    "\n",
    "O que vamos fazer agora é o chamado tratamento de exceções. Tratar uma exceção significa que nós, enquanto programadores, vamos prever quando pode surgir uma mensagem de erro e iremos providenciar algum código alternativo para impedir que o programa seja interrompido inesperadamente ou que substitua o código original.\n",
    "\n",
    "O comando `try` será o responsável por identificar a parte do código em que estamos prevendo que pode haver um erro. Da tradução livre do inglês, \"tentar\", o que o comando faz é pedir para o python tentar rodar o código. Se o código rodar, perfeito. Se não, vem a parte do `except`.\n",
    "\n",
    "O comando `except` vai conter o código alternativo que será executado se alguma **exceção** surgir dentro do `try`. Caso ocorra exceção em alguma linha do try, a execução irá imediatamente para o except, e o restante do código dentro do try não será executado.\n",
    "\n",
    "A sintaxe, é a seguinte:\n",
    "\n",
    "    try:\n",
    "        trecho de código que pode retornar uma exceção\n",
    "    except:\n",
    "        trecho de código alternativo\n",
    "\n",
    "Vamos então fazer o tratamento do erro anterior:\n",
    "\n"
   ]
  },
  {
   "cell_type": "code",
   "execution_count": 19,
   "metadata": {},
   "outputs": [],
   "source": [
    "def lista_compras(lista=[]):\n",
    "    \"\"\"\n",
    "    A função recebe como argumento uma lista, que por default está vazia.\n",
    "    \"\"\"\n",
    "    \n",
    "    # Incluindo uma condição para permitir várias interações dentro de apenas um chamado na função\n",
    "    while True:\n",
    "        # Imprimindo as instruções de uso para o usuário\n",
    "        print(\"------ Lista de Compras ------\")\n",
    "        print(\"1 - Adicionar item\")\n",
    "        print(\"2 - Remover item\")\n",
    "        print(\"3 - Sair da lista\")\n",
    "        \n",
    "        # Recolhendo a escolha do usuário\n",
    "        escolha = int(input(\"Escolha uma opção: \"))\n",
    "\n",
    "        # Se o usuário escolhe adicionar um elemento, o código é parecido com o anterior\n",
    "        if escolha == 1 :\n",
    "            # Pede para o usuário o produto a ser adicionado:\n",
    "            produto = input(\"Qual produto deseja adicionar? \")\n",
    "\n",
    "            # Usa o método append() para incluir o produto no final da lista\n",
    "            lista.append(produto)\n",
    "            print(f\"'{produto}' adicionado na lista de compras.\")\n",
    "\n",
    "\n",
    "        # Se o usuário escolhe remover um elemento:\n",
    "        elif escolha == 2 :\n",
    "            # Pede para o usuário o produto que deseja remover\n",
    "            produto = input(\"Qual produto deseja remover? \")\n",
    "\n",
    "            # Até aqui, nada de novo. \n",
    "            # O erro aconteceu ao utilizar o método remove() para remover a primeira aparição do produto.\n",
    "            # Vamos então incluir o try/except\n",
    "            try:\n",
    "                lista.remove(produto)\n",
    "                print(f\"'{produto}' removido da lista de compras.\") \n",
    "                # Esse print só vai acontecer se a ação anterior for bem sucedida\n",
    "            except:\n",
    "                # Se a pessoa incluir um produto que não existe, podemos pedir para ela tentar novamente.\n",
    "                print(f\"{produto} não está na lista! Tente novamente.\")\n",
    "                continue # Esse comando interrompe a iteração atual no loop e passa para a próxima.\n",
    "\n",
    "        \n",
    "        # Se o usuário escolhe sair da lista, nada é feito e a função termina\n",
    "        \n",
    "        elif escolha == 3:\n",
    "            print(\"Finalizando lista de compras...\")\n",
    "            break # Esse break aqui é o que vai quebrar o loop infinito do while True\n",
    "            print(\"Print para ver o que acontece depois do break\")\n",
    "\n",
    "        # Se o usuário digitar qualquer coisa além das opções disponíveis, Inicia uma nova iteração\n",
    "        else:\n",
    "            print(\"Opção inválida! Tente novamente.\")\n",
    "\n",
    "    return lista\n"
   ]
  },
  {
   "cell_type": "code",
   "execution_count": 20,
   "metadata": {},
   "outputs": [
    {
     "name": "stdout",
     "output_type": "stream",
     "text": [
      "------ Lista de Compras ------\n",
      "1 - Adicionar item\n",
      "2 - Remover item\n",
      "3 - Sair da lista\n",
      "'batata' adicionado na lista de compras.\n",
      "------ Lista de Compras ------\n",
      "1 - Adicionar item\n",
      "2 - Remover item\n",
      "3 - Sair da lista\n",
      "'peixe' adicionado na lista de compras.\n",
      "------ Lista de Compras ------\n",
      "1 - Adicionar item\n",
      "2 - Remover item\n",
      "3 - Sair da lista\n",
      "'cenoura' removido da lista de compras.\n",
      "------ Lista de Compras ------\n",
      "1 - Adicionar item\n",
      "2 - Remover item\n",
      "3 - Sair da lista\n",
      "pipoca não está na lista! Tente novamente.\n",
      "------ Lista de Compras ------\n",
      "1 - Adicionar item\n",
      "2 - Remover item\n",
      "3 - Sair da lista\n",
      "Finalizando lista de compras...\n"
     ]
    }
   ],
   "source": [
    "lista_final=lista_compras(lista_final)\n",
    "# Entradas: \n",
    "# 1, batata \n",
    "# 1, peixe \n",
    "# 2, cenoura\n",
    "# 2, pipoca\n",
    "# 3\n"
   ]
  },
  {
   "attachments": {},
   "cell_type": "markdown",
   "metadata": {},
   "source": [
    "Ainda sobre o tratamento de exceções: \n",
    "\n",
    "1. É possível ter vários exceptions dentro do mesmo `try`.\n",
    "\n",
    "Quando nos deparamos com uma mensagem de erro, ela geralmente tem um tipo. A do exemplo anterior, era `ValueError`. Ao tentar dividir um número por zero, o erro será de `ZeroDivisionError`. Outro exemplo é quando tentamos acessar um índice de uma lista que não existe, o `IndexError`. O `except` que usamos no exemplo anterior trata exceções de modo genérico. Para cada tipo de exceção, podemos incluir um trecho alternativo de código distinto.\n",
    "\n",
    "2. `else`\n",
    "\n",
    "Sim, o mesmo usado em conjunto com `if`, mas aqui utilizado junto com o `try`, para indicar um trecho de código que deve ser executado caso nenhum erro ocorra.\n",
    "\n",
    "3. `finally`\n",
    "\n",
    "Da tradução livre do inglês, \"finalmente\" é exatamente o que você imagina. Nos finalmentes, nos 45 do segundo tempo (ou no final de processamento de todo o conjunto try/except), você quer incluir algo que vai ser executado quer haja uma exceção ou não. Esse comando geralmente é utilizado para códigos de limpeza do programa, como: fechar arquivos, fechar conexões com servidor etc. São ações que devem ser realizadas **SEMPRE** no seu código.\n",
    "\n",
    "Para tratar cada tipo de exceção de forma distinta e ainda incluir uma cláusula else e outra finally, a sintaxe é a seguinte:\n",
    "\n",
    "    try:\n",
    "        trecho de código que pode retornar uma exceção\n",
    "    except ValueError:\n",
    "        trecho de código alternativo para erro do tipo ValueError\n",
    "    except ZeroDivisionError:\n",
    "        trecho de código alternativo para erro do tipo ZeroDivisionError\n",
    "    except IndexError:\n",
    "        trecho de código alternativo para erro do tipo IndexError\n",
    "    except:\n",
    "        trecho de código alternativo para erro genérico\n",
    "    else:\n",
    "        trecho de código a ser executado se nenhum erro aconteceu.\n",
    "    finally:\n",
    "        trecho de código que vai ser executado independentemente do resultado do try\n",
    "\n",
    "4. Criar nossas próprias exceções\n",
    "\n",
    "Pode ser interessante incluir nossas próprias exceções para indicar operações inválidas nas nossas funções. Um exemplo que vimos anteriormente, é o caso do despertador, em que o parâmetro de hora deveria estar entre 0 e 23. Se o usuário digitasse um valor fora disso, nós imprimimos uma mensagem na tela. Mas ao criar uma exceção, isso vai deixar claro para qualquer outro programa que for consumir nossa função, que aquela mensagem se trata de um erro. \n",
    "\n",
    "A sintaxe para criar uma exceção é com o `raise`, por exemplo:\n",
    "\n",
    "    def ... :\n",
    "        if (condicao):\n",
    "            raise Exception(\"Mensagem da exceção\")\n",
    "\n",
    "Lembrem-se que python é case-sensitive, ou seja, precisa ser `Exception()` com E maiúsculo.\n",
    "\n",
    "Com esse comando Exception(), estamos declarando uma exceção genérica, ou seja, não será possível o tratamento de uma exceção específica para esse erro. Se achar adequado, pode indicar uma exceção de um tipo específico já existente, chamando um `raise IndexError(\"mensagem\")`, por exemplo, ou criar uma nova **classe** de exceções. Aqui já começamos a entrar demais no conceito de programação orientada a objetos, e eu vou parar por aqui. Mas é importante saber que existe essa opção.  \n",
    "\n",
    "Como exercício, tente criar um try/except para o input de opção de ação, que deve ser um número inteiro 1, 2 ou 3.\n",
    "\n",
    "\n",
    "💡 Para saber mais sobre exceções: https://docs.python.org/pt-br/3/library/exceptions.html"
   ]
  },
  {
   "attachments": {},
   "cell_type": "markdown",
   "metadata": {},
   "source": [
    "### continue\n",
    "\n",
    "O comando `continue` que foi utilizado no exemplo anterior serve para que a iteração atual termine e passe para a próxima iteração. Por isso, só pode ser utilizado dentro de uma estrutura de repetição `for` ou `while`."
   ]
  },
  {
   "attachments": {},
   "cell_type": "markdown",
   "metadata": {},
   "source": [
    "### pass\n",
    "\n",
    "O comando `pass` serve para quando a sintaxe exige que exista um passo na programação, mas que na verdade nenhuma ação deve ser feita. O programa continua com a execução da próxima linha. Não vou incluir no exemplo da lista de compras, mas seria algo do tipo:\n",
    "\n",
    "    if (lista não existe):\n",
    "        criar lista\n",
    "    else:\n",
    "        pass # Se a lista existe, não faça nada"
   ]
  },
  {
   "attachments": {},
   "cell_type": "markdown",
   "metadata": {},
   "source": [
    "## Número variável de parâmetros\n",
    "\n",
    "Até agora, nossos exemplos têm um número exato de parâmetros. Mas e se eu quisesse uma função que recebesse um número variável de parâmetros? Por exemplo, ainda na *vibe* de assistentes, suponhamos que você precisa marcar várias reuniões. Para quem enviar o convite? Concorda que cada reunião pode ter um número diferente de convidados?\n",
    "\n",
    "Esse objetivo é atingido seguindo o mesmo conceito de desempacotamento de tupla, ao associar um operador * antes do nome do parâmetro já na definição da função. Assim:\n",
    "\n",
    "    def nomedafuncao(*parametro):\n",
    "        ...\n",
    "\n",
    "Com isso, o usuário pode passar quantos parâmetros ele quiser, e o * vai dizer para o python que aqueles parâmetros deve ser tratados como uma tupla. Vamos construir o exemplo do assistente de reunião."
   ]
  },
  {
   "attachments": {},
   "cell_type": "markdown",
   "metadata": {},
   "source": [
    "### Exemplo: marcador de reuniões"
   ]
  },
  {
   "cell_type": "code",
   "execution_count": 21,
   "metadata": {},
   "outputs": [],
   "source": [
    "def convite_reuniao(*convidados):\n",
    "    \"\"\"\n",
    "    Recebe como parâmetros os nomes dos\n",
    "    convidados, separados por vírgulas\n",
    "    \"\"\"\n",
    "    # print(type(convidados)) # Pode incluir esse print para verificar que a variável convidados é uma tupla.\n",
    "    for convidado in convidados:\n",
    "        print(f\"Convite enviado para {convidado}\")\n"
   ]
  },
  {
   "cell_type": "code",
   "execution_count": 22,
   "metadata": {},
   "outputs": [
    {
     "name": "stdout",
     "output_type": "stream",
     "text": [
      "Convite enviado para andre\n"
     ]
    }
   ],
   "source": [
    "# Teste com 1 parâmetro\n",
    "convite_reuniao(\"andre\")"
   ]
  },
  {
   "cell_type": "code",
   "execution_count": 23,
   "metadata": {},
   "outputs": [
    {
     "name": "stdout",
     "output_type": "stream",
     "text": [
      "Convite enviado para andre\n",
      "Convite enviado para maria\n"
     ]
    }
   ],
   "source": [
    "# Teste com 2 parâmetro\n",
    "convite_reuniao(\"andre\",'maria')"
   ]
  },
  {
   "cell_type": "code",
   "execution_count": 24,
   "metadata": {},
   "outputs": [
    {
     "name": "stdout",
     "output_type": "stream",
     "text": [
      "Convite enviado para andre\n",
      "Convite enviado para maria\n",
      "Convite enviado para joão\n",
      "Convite enviado para pedro\n",
      "Convite enviado para jeovan\n",
      "Convite enviado para sam\n",
      "Convite enviado para papai noel\n",
      "Convite enviado para carla\n",
      "Convite enviado para maria\n",
      "Convite enviado para fatima\n"
     ]
    }
   ],
   "source": [
    "# Teste com 10 parâmetro\n",
    "convite_reuniao(\"andre\",'maria','joão','pedro','jeovan','sam','papai noel','carla','maria','fatima')"
   ]
  },
  {
   "attachments": {},
   "cell_type": "markdown",
   "metadata": {},
   "source": [
    "O operador * também pode ser utilizado na chamada da função. No comando def, * indica que os itens avulsos devem ser agrupados em uma coleção (a tupla criada automaticamente pelo python). Na chamada, ele indica que uma coleção deve ser expandida em itens avulsos, por exemplo, se eu ao invés de fornecer valores avulsos, fornecesse uma lista. Eu preciso dizer para o python que a lista deve ser tratada como valores avulsos, pois é isso que a função espera. E isso é feito com o mesmo operador, que tem funções distintas a depender de onde é utilizado."
   ]
  },
  {
   "cell_type": "code",
   "execution_count": 25,
   "metadata": {},
   "outputs": [
    {
     "name": "stdout",
     "output_type": "stream",
     "text": [
      "Convite enviado para ['maria', 'joao', 'jose']\n"
     ]
    }
   ],
   "source": [
    "lista_convidados = ['maria','joao','jose']\n",
    "\n",
    "convite_reuniao(lista_convidados) # Deixando o parâmetro como lista, ele tratou como um único elemento."
   ]
  },
  {
   "cell_type": "code",
   "execution_count": 26,
   "metadata": {},
   "outputs": [
    {
     "name": "stdout",
     "output_type": "stream",
     "text": [
      "Convite enviado para maria\n",
      "Convite enviado para joao\n",
      "Convite enviado para jose\n"
     ]
    }
   ],
   "source": [
    "convite_reuniao(*lista_convidados) # Agora sim o resultado esperado"
   ]
  },
  {
   "attachments": {},
   "cell_type": "markdown",
   "metadata": {},
   "source": [
    "## Parâmetros não obrigatórios\n",
    "\n",
    "Até o momento, ao definir uma função e listar os parâmetros necessários, todos eles devem ter um valor associado ao chamar a função, seja declarado pelo próprio usuário ou pelo valor default da função. Mas e se existir alguma situação em que o parâmetro é opcional? Podemos até continuar no exemplo da marcação de reuniões, existem pessoas cuja presença é opcional.\n",
    "\n",
    "A diferença em relação ao número variável de parâmetros é que na ocasião anterior, os múltiplos parâmetros possuem a mesma utilidade específica dentro da função. Aqui, os parâmetros opcionais serão utilizados para outra funcionalidade.\n",
    "\n",
    "Parâmetros opcionais são indicados no comando def com **, assim:\n",
    "\n",
    "    def nomedafuncao(parametro1,parametro2=valordefault2,**opcionais):\n",
    "        ...\n",
    "\n",
    "Esses parâmetros opcionais são chamados de **kwargs, e por trás está a criação de um dicionário, em que o nome das variáveis são as chaves e os valores declarados na função são os valores do dicionário.\n",
    "\n",
    "Exemplo:"
   ]
  },
  {
   "cell_type": "code",
   "execution_count": 27,
   "metadata": {},
   "outputs": [],
   "source": [
    "def convite_reuniao(*convidados,**opcionais):\n",
    "    \"\"\"\n",
    "    Recebe como parâmetros os nomes dos\n",
    "    convidados, separados por vírgulas\n",
    "    \"\"\"\n",
    "    # print(type(convidados)) # Pode incluir esse print para verificar que a variável convidados é uma tupla.\n",
    "    for convidado in convidados:\n",
    "        print(f\"Convite enviado para {convidado}\")\n",
    "    for x,y in zip(opcionais.keys(),opcionais.values()):\n",
    "        print(f\"Convite opcional enviado para {y}, profissão: {x}\")\n"
   ]
  },
  {
   "cell_type": "code",
   "execution_count": 28,
   "metadata": {},
   "outputs": [
    {
     "name": "stdout",
     "output_type": "stream",
     "text": [
      "Convite enviado para maria\n",
      "Convite enviado para andrew\n",
      "Convite enviado para joao\n",
      "Convite opcional enviado para teresa, profissão: arquiteto\n",
      "Convite opcional enviado para carlos, profissão: engenheiro\n"
     ]
    }
   ],
   "source": [
    "convite_reuniao('maria','andrew','joao',arquiteto='teresa',engenheiro='carlos')"
   ]
  },
  {
   "attachments": {},
   "cell_type": "markdown",
   "metadata": {},
   "source": [
    "Funções é um mundo e eu senti que esse notebook foi de 0 a 100 muito rápido! Esse conteúdo foi bem denso! Mas essa é a realidade de funções... Existem mesmo muitas coisas que podem ser feitas e implementadas, então é necessário prática. Eu não teria como ensinar tudo, mas com certeza o que inclui neste texto já te fornece uma boa base para implementar suas próprias funções. Força!"
   ]
  }
 ],
 "metadata": {
  "kernelspec": {
   "display_name": "Python 3",
   "language": "python",
   "name": "python3"
  },
  "language_info": {
   "codemirror_mode": {
    "name": "ipython",
    "version": 3
   },
   "file_extension": ".py",
   "mimetype": "text/x-python",
   "name": "python",
   "nbconvert_exporter": "python",
   "pygments_lexer": "ipython3",
   "version": "3.10.5"
  },
  "orig_nbformat": 4
 },
 "nbformat": 4,
 "nbformat_minor": 2
}
