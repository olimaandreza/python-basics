{
 "cells": [
  {
   "cell_type": "markdown",
   "metadata": {},
   "source": [
    "# Dicionários\n",
    "\n",
    "Acho que o nome já é bem autoexplicativo do que esperar dessa estrutura de armazenamento de informações em Python. Vamos pensar... como você definiria um dicionário? Sim, aquele que hoje você consulta online, mas como faziam os incas, era em formato de livro!\n",
    "\n",
    "Essecialmente, primeiro, um dicionário contém uma lista de palavras. Essas palavras não se repetem. Para cada palavra, existe um significado (ou vários) atribuído. Pronto, simples. É exatamente nisso que eu quero que vocês pensem quando forem lidar com dicionários em Python.\n",
    "\n",
    "Falando mais tecnicamente, um dicionário em Python é uma coleção iterável de pares de dados, chave-valor ou array associativo. As palavras do dicionário, na nossa analogia, são chamadas de chaves (*keys*, em inglês), e os significados são os valores (*values*). Funciona quase como se cada chave fosse uma variável com atribuição de um valor, mas de fato, mudam a sintaxe e a forma de lidar com esses objetos e como eles são armazenados.\n",
    "\n",
    "Como em um dicionário do mundo real, as palavras que existem não mudam, mas seus significados podem mudar com o tempo ou então outras palavras podem ser incorporadas. Em Python, é a mesma coisa. As chaves de um dicionário não podem ser alteradas, mas seus valores sim.\n",
    "\n",
    "Para criar um dicionário, pode utilizar a estrutura:\n",
    "\n",
    "```py\n",
    "dicionario = {chave1:valor1,chave2:valor2,...}\n",
    "```\n",
    "ou\n",
    "\n",
    "```py\n",
    "dicionario = dict(chave1 = valor1, chave2 = valor 2, ...)\n",
    "```\n",
    "\n",
    "Nessa segunda estrutura, os chaves serão transformadas em strings."
   ]
  },
  {
   "cell_type": "markdown",
   "metadata": {},
   "source": [
    "## Criando dicionários"
   ]
  },
  {
   "cell_type": "code",
   "execution_count": 1,
   "metadata": {},
   "outputs": [
    {
     "data": {
      "text/plain": [
       "{'chave1': 1, 'chave2': 2, 'chave3': 3}"
      ]
     },
     "execution_count": 1,
     "metadata": {},
     "output_type": "execute_result"
    }
   ],
   "source": [
    "# Definição de dicionário a partir de chaves\n",
    "dict1 = {\"chave1\": 1,\"chave2\":2,\"chave3\":3}\n",
    "dict1"
   ]
  },
  {
   "cell_type": "code",
   "execution_count": 2,
   "metadata": {},
   "outputs": [
    {
     "data": {
      "text/plain": [
       "{'chave4': 4, 'chave5': 5}"
      ]
     },
     "execution_count": 2,
     "metadata": {},
     "output_type": "execute_result"
    }
   ],
   "source": [
    "# Definição de dicionário a partir da função dict\n",
    "dict2 = dict(chave4=4,chave5=5)\n",
    "dict2"
   ]
  },
  {
   "cell_type": "markdown",
   "metadata": {},
   "source": [
    "Outra possibilidade é utilizar a função dict em conjunto com uma estrutura de lista ou uma tupla contendo outras coleções (lista ou tupla) com exatamente 2 elementos. O primeiro elemento será chave, o segundo será valor. O exemplo abaixo cria o mesmo dicionário do exemplo anterior:"
   ]
  },
  {
   "cell_type": "code",
   "execution_count": 3,
   "metadata": {},
   "outputs": [],
   "source": [
    "# observe que um elemento é uma lista e outro uma tupla\n",
    "dict2_2 = dict([[\"chave4\",4],(\"chave5\",5)])"
   ]
  },
  {
   "cell_type": "code",
   "execution_count": 4,
   "metadata": {},
   "outputs": [
    {
     "data": {
      "text/plain": [
       "{'chave4': 4, 'chave5': 5}"
      ]
     },
     "execution_count": 4,
     "metadata": {},
     "output_type": "execute_result"
    }
   ],
   "source": [
    "dict2_2"
   ]
  },
  {
   "cell_type": "markdown",
   "metadata": {},
   "source": [
    "Os exemplos até agora incluíram strings como chaves e inteiros como valores, mas na prática é possível adicionar qualquer objeto em valor, inclusive um novo dicionário.\n",
    "\n",
    "Já as chaves, essas precisam ser imutáveis: tuplas, strings, números. Se você se lembra bem da diferença entre [listas e tuplas](Python-listas-e-tuplas.ipynb), sabe que uma lista não pode ser uma chave, porque listas são mutáveis.\n",
    "\n",
    "Vamos fazer um exemplo de dicionário com várias estruturas."
   ]
  },
  {
   "cell_type": "code",
   "execution_count": 5,
   "metadata": {},
   "outputs": [
    {
     "data": {
      "text/plain": [
       "{1: {'nome': 'Panqueca',\n",
       "  'idade': 21,\n",
       "  'notas': [5, 6, 7],\n",
       "  ('mãe', 'pai'): ('mãequeca', 'paiqueca')}}"
      ]
     },
     "execution_count": 5,
     "metadata": {},
     "output_type": "execute_result"
    }
   ],
   "source": [
    "# Exemplo de dicionário com várias estruturas\n",
    "dict3={1:{\"nome\":\"Panqueca\",\"idade\":21,\"notas\":[5,6,7],(\"mãe\",\"pai\"):(\"mãequeca\",\"paiqueca\")}}\n",
    "dict3"
   ]
  },
  {
   "cell_type": "code",
   "execution_count": 6,
   "metadata": {},
   "outputs": [
    {
     "ename": "TypeError",
     "evalue": "unhashable type: 'list'",
     "output_type": "error",
     "traceback": [
      "\u001b[1;31m---------------------------------------------------------------------------\u001b[0m",
      "\u001b[1;31mTypeError\u001b[0m                                 Traceback (most recent call last)",
      "\u001b[1;32mc:\\Users\\olima\\Documents\\Python\\Basics\\Python-dicionarios.ipynb Cell 10\u001b[0m line \u001b[0;36m<cell line: 2>\u001b[1;34m()\u001b[0m\n\u001b[0;32m      <a href='vscode-notebook-cell:/c%3A/Users/olima/Documents/Python/Basics/Python-dicionarios.ipynb#W6sZmlsZQ%3D%3D?line=0'>1</a>\u001b[0m \u001b[39m# Vamos agora tentar criar um dicionário com uma lista como chave\u001b[39;00m\n\u001b[1;32m----> <a href='vscode-notebook-cell:/c%3A/Users/olima/Documents/Python/Basics/Python-dicionarios.ipynb#W6sZmlsZQ%3D%3D?line=1'>2</a>\u001b[0m dict4\u001b[39m=\u001b[39m{[\u001b[39m\"\u001b[39m\u001b[39mteste\u001b[39m\u001b[39m\"\u001b[39m]:\u001b[39m4\u001b[39m}\n",
      "\u001b[1;31mTypeError\u001b[0m: unhashable type: 'list'"
     ]
    }
   ],
   "source": [
    "# Vamos agora tentar criar um dicionário com uma lista como chave\n",
    "dict4={[\"teste\"]:4}"
   ]
  },
  {
   "cell_type": "markdown",
   "metadata": {},
   "source": [
    "Esse erro significa que a lista não pode ser uma chave de dicionário. Tecnicamente, uma lista não pode ser uma chave de dicionário porque ela não é uma estrutura *hashable*, que, de modo bem simplificado, é um método para indexação e performance em dicionários."
   ]
  },
  {
   "cell_type": "markdown",
   "metadata": {},
   "source": [
    "## Adicionando chaves em um dicionário"
   ]
  },
  {
   "cell_type": "markdown",
   "metadata": {},
   "source": [
    "Para adicionar mais pares de chave-valor em um dicionário existente, pode-se usar a seguinte sintaxe:\n",
    "\n",
    "```py\n",
    "dicionario[novachave] = valor\n",
    "```"
   ]
  },
  {
   "cell_type": "code",
   "execution_count": 7,
   "metadata": {},
   "outputs": [
    {
     "data": {
      "text/plain": [
       "{'chave4': 4, 'chave5': 5, 'chave6': 6}"
      ]
     },
     "execution_count": 7,
     "metadata": {},
     "output_type": "execute_result"
    }
   ],
   "source": [
    "dict2[\"chave6\"]=6\n",
    "dict2"
   ]
  },
  {
   "cell_type": "markdown",
   "metadata": {},
   "source": [
    "Lá no início eu falei que as chaves eram únicas, certo? O que será que acontece se tentarmos adicionar novamente uma chave que já existe? Vamos testar"
   ]
  },
  {
   "cell_type": "code",
   "execution_count": 8,
   "metadata": {},
   "outputs": [
    {
     "data": {
      "text/plain": [
       "{'chave4': 4, 'chave5': 5, 'chave6': 7}"
      ]
     },
     "execution_count": 8,
     "metadata": {},
     "output_type": "execute_result"
    }
   ],
   "source": [
    "# Adicionar uma chave que já existe:\n",
    "dict2[\"chave6\"]=7\n",
    "dict2"
   ]
  },
  {
   "cell_type": "markdown",
   "metadata": {},
   "source": [
    "Observe que nesse caso, o valor foi substituído. Então, muito cuidado ao fazer esse tipo de operação."
   ]
  },
  {
   "cell_type": "markdown",
   "metadata": {},
   "source": [
    "## Como saber se uma chave existe?\n",
    "\n",
    "Já que estamos falando sobre chaves e sua possível existência ou não em determinado dicionário, existe um método que retorna todas as chaves: `.keys()`\n",
    "\n"
   ]
  },
  {
   "cell_type": "code",
   "execution_count": 9,
   "metadata": {},
   "outputs": [
    {
     "data": {
      "text/plain": [
       "dict_keys(['chave4', 'chave5', 'chave6'])"
      ]
     },
     "execution_count": 9,
     "metadata": {},
     "output_type": "execute_result"
    }
   ],
   "source": [
    "# Verifica todas as chaves existentes no dict2\n",
    "dict2.keys()"
   ]
  },
  {
   "cell_type": "markdown",
   "metadata": {},
   "source": [
    "## Acessando valores de um dicionário"
   ]
  },
  {
   "cell_type": "markdown",
   "metadata": {},
   "source": [
    "Agora que você já sabe criar dicionários e incluir novas chaves, como acessar cada valor individualmente?\n",
    "\n",
    "Um ponto relevante a ser mencionado é que um dicionário, diferentemente de listas, não pode ser acessado pela sua posição ou via slicing.\n",
    "\n",
    "Você deve \"chamar\" um dicionário pela chave, assim:\n",
    "\n",
    "```py\n",
    "dicionario[\"chave\"]\n",
    "```\n",
    "\n",
    "E isso retorna o valor dessa chave. Uma outra alternativa é o **método** de dicionários `.get()`:\n",
    "\n",
    "```py\n",
    "dicionario.get(\"chave\")\n",
    "```\n",
    "\n",
    "A diferença entre as duas opções é que a segunda opção não resulta em erro ao tentar acessar uma chave que não existe. Já a primeira, sim, retorna um erro. Qual das duas implementar, vai realmente depender da particularidade da sua aplicação."
   ]
  },
  {
   "cell_type": "code",
   "execution_count": 10,
   "metadata": {},
   "outputs": [
    {
     "data": {
      "text/plain": [
       "7"
      ]
     },
     "execution_count": 10,
     "metadata": {},
     "output_type": "execute_result"
    }
   ],
   "source": [
    "# Testando chamar uma chave existente:\n",
    "dict2[\"chave6\"]"
   ]
  },
  {
   "cell_type": "code",
   "execution_count": 11,
   "metadata": {},
   "outputs": [
    {
     "data": {
      "text/plain": [
       "7"
      ]
     },
     "execution_count": 11,
     "metadata": {},
     "output_type": "execute_result"
    }
   ],
   "source": [
    "# Testando o método get():\n",
    "dict2.get(\"chave6\")"
   ]
  },
  {
   "cell_type": "code",
   "execution_count": 12,
   "metadata": {},
   "outputs": [
    {
     "ename": "KeyError",
     "evalue": "'chave7'",
     "output_type": "error",
     "traceback": [
      "\u001b[1;31m---------------------------------------------------------------------------\u001b[0m",
      "\u001b[1;31mKeyError\u001b[0m                                  Traceback (most recent call last)",
      "\u001b[1;32mc:\\Users\\olima\\Documents\\Python\\Basics\\Python-dicionarios.ipynb Cell 24\u001b[0m line \u001b[0;36m<cell line: 2>\u001b[1;34m()\u001b[0m\n\u001b[0;32m      <a href='vscode-notebook-cell:/c%3A/Users/olima/Documents/Python/Basics/Python-dicionarios.ipynb#X26sZmlsZQ%3D%3D?line=0'>1</a>\u001b[0m \u001b[39m# Testando chamar uma chave que não existe:\u001b[39;00m\n\u001b[1;32m----> <a href='vscode-notebook-cell:/c%3A/Users/olima/Documents/Python/Basics/Python-dicionarios.ipynb#X26sZmlsZQ%3D%3D?line=1'>2</a>\u001b[0m dict2[\u001b[39m\"\u001b[39;49m\u001b[39mchave7\u001b[39;49m\u001b[39m\"\u001b[39;49m]\n",
      "\u001b[1;31mKeyError\u001b[0m: 'chave7'"
     ]
    }
   ],
   "source": [
    "# Testando chamar uma chave que não existe:\n",
    "dict2[\"chave7\"]"
   ]
  },
  {
   "cell_type": "code",
   "execution_count": 13,
   "metadata": {},
   "outputs": [],
   "source": [
    "# Testando método get com chave inexistente, simplesmente não retorna nada\n",
    "dict2.get(\"chave7\")"
   ]
  },
  {
   "cell_type": "markdown",
   "metadata": {},
   "source": [
    "Além de o método `.get()` não retornar um erro, é possível passar um segundo parâmetro que será o retorno padrão para quando procurarmos uma chave que não existe, assim:"
   ]
  },
  {
   "cell_type": "code",
   "execution_count": 14,
   "metadata": {},
   "outputs": [
    {
     "data": {
      "text/plain": [
       "'Chave inexistente'"
      ]
     },
     "execution_count": 14,
     "metadata": {},
     "output_type": "execute_result"
    }
   ],
   "source": [
    "dict2.get(\"chave7\",\"Chave inexistente\")"
   ]
  },
  {
   "cell_type": "markdown",
   "metadata": {},
   "source": [
    "## Outros métodos de dicionários\n",
    "\n",
    "Mais cedo nesse notebook já falei sobre:\n",
    "* `.get()`: retorna o valor da chave passada como parâmetro\n",
    "* `.keys()`: retorna uma lista com todas as chaves do dicionário\n",
    "\n",
    "Outros métodos que podem ser úteis ao lidar com dicionários:\n",
    "* `.values()`: retorna um objeto iterável com todos os valores presentes no dicionário\n",
    "* `.items()`: retorna um objeto iterável de tuplas, em que cada tupla é composta por dois valores, o primeiro é a chave e o segundo é o valor dessa chave, para cada entrada do dicionário.\n",
    "* `.fromkeys()`: cria um dicionário com chaves a partir de uma lista, com valores vazios ou o definido em um segundo parâmetro para todas as chaves\n",
    "* `.update()`: mescla dois dicionários, se a chave do novo dicionário já existe no anteior, substitui o valor, se não, adiciona o par chave-valor no dicionário\n",
    "* `.pop()`: igual em listas, retorna o valor da chave indicada e o exclui\n",
    "* `.popitem()`: retorna e exclui o último par de chave e valor\n",
    "* `.setdefault()`: se a chave informada já existe, retorna o valor. Se não existir, cria uma nova chave com o valor None ou o informado no segundo parâmetro.\n",
    "* `.clear()`: limpa o dicionário (remove todas as entradas)"
   ]
  },
  {
   "cell_type": "markdown",
   "metadata": {},
   "source": [
    "### .values()"
   ]
  },
  {
   "cell_type": "code",
   "execution_count": 15,
   "metadata": {},
   "outputs": [
    {
     "data": {
      "text/plain": [
       "dict_values([4, 5, 7])"
      ]
     },
     "execution_count": 15,
     "metadata": {},
     "output_type": "execute_result"
    }
   ],
   "source": [
    "# Verifica todos os valores no dicionário\n",
    "dict2.values()"
   ]
  },
  {
   "cell_type": "markdown",
   "metadata": {},
   "source": [
    "### .items()"
   ]
  },
  {
   "cell_type": "code",
   "execution_count": 16,
   "metadata": {},
   "outputs": [
    {
     "data": {
      "text/plain": [
       "dict_items([('chave4', 4), ('chave5', 5), ('chave6', 7)])"
      ]
     },
     "execution_count": 16,
     "metadata": {},
     "output_type": "execute_result"
    }
   ],
   "source": [
    "# Cria tuplas com cada chave e seu respectivo valor\n",
    "dict2.items()"
   ]
  },
  {
   "cell_type": "markdown",
   "metadata": {},
   "source": [
    "### .fromkeys()"
   ]
  },
  {
   "cell_type": "code",
   "execution_count": 17,
   "metadata": {},
   "outputs": [
    {
     "data": {
      "text/plain": [
       "{'lista chave 1': None, 'lista chave 2': None, 'lista chave 3': None}"
      ]
     },
     "execution_count": 17,
     "metadata": {},
     "output_type": "execute_result"
    }
   ],
   "source": [
    "# Criando um dicionário com chaves a partir de uma lista e valores vazios\n",
    "novas_chaves = [\"lista chave 1\", \"lista chave 2\", \"lista chave 3\"]\n",
    "dict_fromkeys = dict.fromkeys(novas_chaves)\n",
    "dict_fromkeys"
   ]
  },
  {
   "cell_type": "code",
   "execution_count": 18,
   "metadata": {},
   "outputs": [
    {
     "data": {
      "text/plain": [
       "{'lista chave 1': 1, 'lista chave 2': 1, 'lista chave 3': 1}"
      ]
     },
     "execution_count": 18,
     "metadata": {},
     "output_type": "execute_result"
    }
   ],
   "source": [
    "# Criando um dicionário com chaves a partir de uma lista e valores = 1\n",
    "novas_chaves = [\"lista chave 1\", \"lista chave 2\", \"lista chave 3\"]\n",
    "dict_fromkeys = dict.fromkeys(novas_chaves,1)\n",
    "dict_fromkeys"
   ]
  },
  {
   "cell_type": "markdown",
   "metadata": {},
   "source": [
    "### .update()"
   ]
  },
  {
   "cell_type": "code",
   "execution_count": 19,
   "metadata": {},
   "outputs": [
    {
     "data": {
      "text/plain": [
       "{'chave1': 1, 'chave2': 2, 'chave3': 3, 'chave4': 4, 'chave5': 5, 'chave6': 7}"
      ]
     },
     "execution_count": 19,
     "metadata": {},
     "output_type": "execute_result"
    }
   ],
   "source": [
    "# Adiciona os valores de dict2 em dict1\n",
    "dict1.update(dict2)\n",
    "dict1"
   ]
  },
  {
   "cell_type": "markdown",
   "metadata": {},
   "source": [
    "### .pop() e .popitem()"
   ]
  },
  {
   "cell_type": "code",
   "execution_count": 20,
   "metadata": {},
   "outputs": [
    {
     "data": {
      "text/plain": [
       "5"
      ]
     },
     "execution_count": 20,
     "metadata": {},
     "output_type": "execute_result"
    }
   ],
   "source": [
    "# Excluindo o elemento de chave = \"chave5\"\n",
    "dict2.pop(\"chave5\")"
   ]
  },
  {
   "cell_type": "code",
   "execution_count": 21,
   "metadata": {},
   "outputs": [
    {
     "data": {
      "text/plain": [
       "{'chave4': 4, 'chave6': 7}"
      ]
     },
     "execution_count": 21,
     "metadata": {},
     "output_type": "execute_result"
    }
   ],
   "source": [
    "# dict2 agora não possui a chave5\n",
    "dict2"
   ]
  },
  {
   "cell_type": "code",
   "execution_count": 22,
   "metadata": {},
   "outputs": [
    {
     "data": {
      "text/plain": [
       "('lista chave 3', 1)"
      ]
     },
     "execution_count": 22,
     "metadata": {},
     "output_type": "execute_result"
    }
   ],
   "source": [
    "# excluindo o último elemento\n",
    "dict_fromkeys.popitem()"
   ]
  },
  {
   "cell_type": "code",
   "execution_count": 23,
   "metadata": {},
   "outputs": [
    {
     "data": {
      "text/plain": [
       "{'lista chave 1': 1, 'lista chave 2': 1}"
      ]
     },
     "execution_count": 23,
     "metadata": {},
     "output_type": "execute_result"
    }
   ],
   "source": [
    "# dict_fromkeys agora não possui a lista chave 3\n",
    "dict_fromkeys\n"
   ]
  },
  {
   "cell_type": "markdown",
   "metadata": {},
   "source": [
    "### .setdefault()"
   ]
  },
  {
   "cell_type": "code",
   "execution_count": 24,
   "metadata": {},
   "outputs": [
    {
     "data": {
      "text/plain": [
       "4"
      ]
     },
     "execution_count": 24,
     "metadata": {},
     "output_type": "execute_result"
    }
   ],
   "source": [
    "# procura \"chave4\" no dict2\n",
    "dict2.setdefault(\"chave4\",100)"
   ]
  },
  {
   "cell_type": "code",
   "execution_count": 25,
   "metadata": {},
   "outputs": [
    {
     "data": {
      "text/plain": [
       "{'chave4': 4, 'chave6': 7}"
      ]
     },
     "execution_count": 25,
     "metadata": {},
     "output_type": "execute_result"
    }
   ],
   "source": [
    "# Observer que ele retorna o valor existente na chave4 e não faz nenhuma alteração no dicionário\n",
    "dict2"
   ]
  },
  {
   "cell_type": "code",
   "execution_count": 26,
   "metadata": {},
   "outputs": [
    {
     "data": {
      "text/plain": [
       "100"
      ]
     },
     "execution_count": 26,
     "metadata": {},
     "output_type": "execute_result"
    }
   ],
   "source": [
    "# Agora, vamos adicionar a chave5 com valor 100\n",
    "dict2.setdefault(\"chave5\",100)"
   ]
  },
  {
   "cell_type": "code",
   "execution_count": 27,
   "metadata": {},
   "outputs": [
    {
     "data": {
      "text/plain": [
       "{'chave4': 4, 'chave6': 7, 'chave5': 100}"
      ]
     },
     "execution_count": 27,
     "metadata": {},
     "output_type": "execute_result"
    }
   ],
   "source": [
    "# chave5 adicionada no dict2\n",
    "dict2"
   ]
  },
  {
   "cell_type": "code",
   "execution_count": 28,
   "metadata": {},
   "outputs": [],
   "source": [
    "# adiciona chave7, sem valor\n",
    "dict2.setdefault(\"chave7\")\n"
   ]
  },
  {
   "cell_type": "code",
   "execution_count": 29,
   "metadata": {},
   "outputs": [
    {
     "data": {
      "text/plain": [
       "{'chave4': 4, 'chave6': 7, 'chave5': 100, 'chave7': None}"
      ]
     },
     "execution_count": 29,
     "metadata": {},
     "output_type": "execute_result"
    }
   ],
   "source": [
    "dict2"
   ]
  },
  {
   "cell_type": "markdown",
   "metadata": {},
   "source": [
    "### .clear()"
   ]
  },
  {
   "cell_type": "code",
   "execution_count": 30,
   "metadata": {},
   "outputs": [],
   "source": [
    "# limpa o dicionário\n",
    "dict_fromkeys.clear()"
   ]
  },
  {
   "cell_type": "code",
   "execution_count": 31,
   "metadata": {},
   "outputs": [
    {
     "data": {
      "text/plain": [
       "{}"
      ]
     },
     "execution_count": 31,
     "metadata": {},
     "output_type": "execute_result"
    }
   ],
   "source": [
    "# mostra o dicionário vazio\n",
    "dict_fromkeys"
   ]
  },
  {
   "cell_type": "markdown",
   "metadata": {},
   "source": [
    "Dicionários são uma das estruturas de dados mais versáteis e poderosas em Python. Eles são amplamente utilizados em uma variedade de aplicações devido à sua capacidade de armazenar dados em pares chave-valor e este foi um tutorial básico para começar a lidar com essa estrutura tão importante e seus principais métodos.\n"
   ]
  }
 ],
 "metadata": {
  "kernelspec": {
   "display_name": "Python 3",
   "language": "python",
   "name": "python3"
  },
  "language_info": {
   "codemirror_mode": {
    "name": "ipython",
    "version": 3
   },
   "file_extension": ".py",
   "mimetype": "text/x-python",
   "name": "python",
   "nbconvert_exporter": "python",
   "pygments_lexer": "ipython3",
   "version": "3.10.5"
  },
  "orig_nbformat": 4
 },
 "nbformat": 4,
 "nbformat_minor": 2
}
