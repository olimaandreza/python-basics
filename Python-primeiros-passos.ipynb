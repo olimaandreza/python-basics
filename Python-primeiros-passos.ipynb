{
 "cells": [
  {
   "attachments": {},
   "cell_type": "markdown",
   "metadata": {},
   "source": [
    "# Primeiros passos com Python\n",
    "\n",
    "Python é uma linguagem de programação que os humanos podem usar para escrever instruções para o computador executar tarefas específicas.\n",
    "\n",
    "É definida como uma linguagem de programação de alto nível, interpretada e orientada a objetos. Mas vamos por partes:\n",
    "\n",
    "*Python é uma linguagem de programação de alto nível...*\n",
    "\n",
    "Isso significa que foi projetada para ser fácil de entender e escrever para os humanos, em contraste com as linguagens de baixo nível, que são projetadas para serem entendidas pelo computador.\n",
    "\n",
    "*Python é uma linguagem de programação interpretada...*\n",
    "\n",
    "Isso significa que as instruções (linhas de código do programa) são lidas e executadas linha por linha diretamente pelo computador, sem haver a necessidade de passar por um processo de compilação, isto é, um processo de transformação da linguagem de alto nível para uma linguagem de baixo nível que o computador entende (esse conceito você já aprendeu!).\n",
    "\n",
    "*Python é uma linguagem de programação orientada a objetos...*\n",
    "\n",
    "Esse para mim é o mais difícil de explicar, quem tiver outra forma, me ajuda aí! \n",
    "\n",
    "Mas é mais ou menos o seguinte: uma linguagem de programação orientada a objetos permite a criação de estruturas de atributos que podem ser facilmente reutilizadas em diferentes partes de um programa. Em outras palavras, em vez de escrever um código complexo repetidamente, você pode criar um objeto que contenha todas as informações e funcionalidades necessárias e, em seguida, usar esse objeto sempre que precisar dele.\n"
   ]
  },
  {
   "attachments": {},
   "cell_type": "markdown",
   "metadata": {},
   "source": [
    "## Hello world\n",
    "\n",
    "O \"Hello, World!\" é considerado uma tradição na programação de computadores e é usado como um rito de passagem para muitos programadores iniciantes. O objetivo é criar um programa que imprime a frase \"Hello, World!\" na tela do computador.\n",
    "Em python, a função `print()` vai fazer esse trabalho."
   ]
  },
  {
   "cell_type": "code",
   "execution_count": 1,
   "metadata": {},
   "outputs": [
    {
     "ename": "SyntaxError",
     "evalue": "invalid syntax. Perhaps you forgot a comma? (2443755642.py, line 1)",
     "output_type": "error",
     "traceback": [
      "\u001b[1;36m  Input \u001b[1;32mIn [1]\u001b[1;36m\u001b[0m\n\u001b[1;33m    print(Hello World!)\u001b[0m\n\u001b[1;37m          ^\u001b[0m\n\u001b[1;31mSyntaxError\u001b[0m\u001b[1;31m:\u001b[0m invalid syntax. Perhaps you forgot a comma?\n"
     ]
    }
   ],
   "source": [
    "print(Hello World!)"
   ]
  },
  {
   "attachments": {},
   "cell_type": "markdown",
   "metadata": {},
   "source": [
    "Ao utilizar a função print para imprimir valores que são um texto, precisamos indicar para o programa, caso contrário, ele vai procurar na memória uma **variável** com o nome do texto inserido, e isso pode acarretar um erro ou resultados não previstos. A forma de fazer isso é incluir o texto que se deseja imprimir entre aspas."
   ]
  },
  {
   "cell_type": "code",
   "execution_count": null,
   "metadata": {},
   "outputs": [
    {
     "name": "stdout",
     "output_type": "stream",
     "text": [
      "Hello world!\n"
     ]
    }
   ],
   "source": [
    "# Agora vai! \n",
    "print(\"Hello world!\")"
   ]
  },
  {
   "attachments": {},
   "cell_type": "markdown",
   "metadata": {},
   "source": [
    "A propósito, uma linha de código que começa com \"#\" (como o \"# Agora vai!\" na execução anterior) na verdade é um comentário e não será executado pelo programa, será ignorado e pode conter qualquer informação necessária para entendimento do código"
   ]
  },
  {
   "attachments": {},
   "cell_type": "markdown",
   "metadata": {},
   "source": [
    "## Atribuição de variáveis\n",
    "\n",
    "Uma **variável** serve para guardar valores na memória do computador. O valor armazenado pode depois ser lido e manipulado a partir do nome definido para a variável. A atribuição de variáveis em Python se dá pela seguinte fórmula:\n",
    "\n",
    "    nomedavariavel = valor da variável"
   ]
  },
  {
   "cell_type": "code",
   "execution_count": null,
   "metadata": {},
   "outputs": [],
   "source": [
    "# Atribuir o valor 2 à variável chamada \"a\" (sem as aspas)\n",
    "a = 2"
   ]
  },
  {
   "cell_type": "code",
   "execution_count": null,
   "metadata": {},
   "outputs": [
    {
     "name": "stdout",
     "output_type": "stream",
     "text": [
      "2\n"
     ]
    }
   ],
   "source": [
    "# Agora vamos usar a função que imprime valores para ver qual valor está dentro da variável \"a\"\n",
    "print(a)"
   ]
  },
  {
   "cell_type": "code",
   "execution_count": null,
   "metadata": {},
   "outputs": [
    {
     "name": "stdout",
     "output_type": "stream",
     "text": [
      "a\n"
     ]
    }
   ],
   "source": [
    "# Observe a diferença ao imprimir a string \"a\" (agora com aspas):\n",
    "print(\"a\")"
   ]
  },
  {
   "cell_type": "code",
   "execution_count": null,
   "metadata": {},
   "outputs": [
    {
     "data": {
      "text/plain": [
       "2"
      ]
     },
     "execution_count": 18,
     "metadata": {},
     "output_type": "execute_result"
    }
   ],
   "source": [
    "# Outra forma de acessar o valor da variável é simplesmente executar o seu nome (com jupyter):\n",
    "a"
   ]
  },
  {
   "attachments": {},
   "cell_type": "markdown",
   "metadata": {},
   "source": [
    "Alguns detalhes precisam de atenção:\n",
    "* Não há como declarar uma variável sem atribuir um valor inicial a ela\n",
    "* Os nomes das variáveis devem começar com uma letra ou um underline\n",
    "* O nome é *case sensitive*, isto significa que letras maiúsculas e minúsculas são diferentes (tente acessar o valor da variável \"A\")\n",
    "* A atribuição de variáveis funciona sempre da esquerda para a direita (valor = nomedavariavel não vai funcionar)\n",
    "* Você não pode usar os comandos (keywords) do python como o nome de uma variável, sob risco de substituir comandos importantes. Por exemplo, uma variável não pode se chamar print, a função para imprimir valores na página\n"
   ]
  },
  {
   "attachments": {},
   "cell_type": "markdown",
   "metadata": {},
   "source": [
    "> 💡 Curiosidade:\n",
    "> \n",
    "> É possível atribuir valores a mais de uma variável por vez, usando a seguinte sintaxe (é necessário que se tenha o mesmo número de elementos antes e depois do sinal de igual que atribui valor às variáveis):\n",
    ">\n",
    ">        a, b, c =  1, 2, 3\n",
    ">\n",
    ">Também é possível atribuir um mesmo valor a várias variáveis de uma vez só:\n",
    ">\n",
    ">        a = b = c = None"
   ]
  },
  {
   "attachments": {},
   "cell_type": "markdown",
   "metadata": {},
   "source": [
    "## Tipos de variáveis\n",
    "\n",
    "Falando em linguagem de programação orientada a objetos, o que os exemplos de código acima faz é atribuir um objeto (valor) a uma variável (nome da variável).\n",
    "\n",
    "Existem vários tipos de dados que podem ser atribuídos às variáveis e isso impacta quais métodos (funções) podem ser usadas e qual o comportamento esperado desses dados.\n",
    "\n",
    "Os tipos mais simples são:\n",
    "* String: esse já conhecemos, é o caso do \"Hello world!\", ou seja, um conjunto de caracteres que que deve ser entendido como texto. Nada impede que um caracter numérico seja atribuído a uma String, basta que para isso seja informado entre aspas.\n",
    "\n",
    "* Integer: na tradução, números inteiros, ou seja, qualquer número que não tenha casas decimais, são geralmente contagens de algo, mas podem ser positivos ou negativos.\n",
    "\n",
    "* Float: número que tem casas decimais, mesmo que a casa decimal seja zero, por exemplo, 2 tem tipo diferente de 2.0. Também podem ser positivos ou negativos.\n",
    "\n",
    "* Boolean: aqui é onde as coisas começam a entrar na lógica computacional, mas basicamente esse tipo de variável assume apenas dois valores: verdadeiro ou falso (‘True’ ou ‘False’). Aqui eu quero que pense que uma variável booleana é como um interruptor que pode estar ligado ou desligado. É tipo o botão do elevador que você aperta para subir ou descer. Só que em programação, em vez de estar apertando um botão, é o computador que fica verificando se a luz está acesa ou apagada. E dependendo do resultado, ela faz uma determinada ação. As variáveis booleanas são muito importantes em programação, porque elas ajudam a máquina a tomar decisões. Vamos falar mais sobre esse tipo mais na frente.\n",
    "\n",
    "* None: Valor vazio ou com tipo de dados nulo\n",
    "\n",
    "* Lista, Tupla e Dicionário também são tipos de dados que podem ser armazenados em Python, mas esses ficam para uma próxima hora.\n",
    "\n",
    "Ah! Você não precisa se preocupar em atribuir um tipo a uma variável, o próprio interpretador do Python (lembra do conceito de linguagem interpretada?) escolhe automaticamente o tipo mais adequado. Por isso Python também pode ser uma linguagem dinamicamente tipada, a depender do valor inserido, o interpretador seleciona o tipo e até pode alterá-lo, caso em um primeiro momento tenha atribuído uma string e depois um integer."
   ]
  },
  {
   "attachments": {},
   "cell_type": "markdown",
   "metadata": {},
   "source": [
    "Para saber o tipo de uma variável, usa-se a função `type()`:"
   ]
  },
  {
   "cell_type": "code",
   "execution_count": null,
   "metadata": {},
   "outputs": [
    {
     "data": {
      "text/plain": [
       "int"
      ]
     },
     "execution_count": 19,
     "metadata": {},
     "output_type": "execute_result"
    }
   ],
   "source": [
    "type(a)"
   ]
  },
  {
   "attachments": {},
   "cell_type": "markdown",
   "metadata": {},
   "source": [
    "👉 Aqui podes encontrar mais detalhes na documentação do Python sobre os tipos de variáveis: https://docs.python.org/3/library/stdtypes.html"
   ]
  },
  {
   "attachments": {},
   "cell_type": "markdown",
   "metadata": {},
   "source": [
    "## Operações aritméticas\n",
    "\n",
    "Falando de tipos numéricos, o que vem em mente é fazer cálculos com eles, e o Python já tem funções aritméticas construídas. Acompanha aí:"
   ]
  },
  {
   "cell_type": "code",
   "execution_count": null,
   "metadata": {},
   "outputs": [
    {
     "data": {
      "text/plain": [
       "4"
      ]
     },
     "execution_count": 8,
     "metadata": {},
     "output_type": "execute_result"
    }
   ],
   "source": [
    "# Soma:\n",
    "3+1"
   ]
  },
  {
   "cell_type": "code",
   "execution_count": null,
   "metadata": {},
   "outputs": [
    {
     "data": {
      "text/plain": [
       "2"
      ]
     },
     "execution_count": 9,
     "metadata": {},
     "output_type": "execute_result"
    }
   ],
   "source": [
    "# Subtração\n",
    "3-1"
   ]
  },
  {
   "cell_type": "code",
   "execution_count": null,
   "metadata": {},
   "outputs": [
    {
     "data": {
      "text/plain": [
       "9"
      ]
     },
     "execution_count": 10,
     "metadata": {},
     "output_type": "execute_result"
    }
   ],
   "source": [
    "# Multiplicação\n",
    "3*3"
   ]
  },
  {
   "cell_type": "code",
   "execution_count": null,
   "metadata": {},
   "outputs": [
    {
     "data": {
      "text/plain": [
       "2.0"
      ]
     },
     "execution_count": 11,
     "metadata": {},
     "output_type": "execute_result"
    }
   ],
   "source": [
    "# Divisão\n",
    "6/3"
   ]
  },
  {
   "attachments": {},
   "cell_type": "markdown",
   "metadata": {},
   "source": [
    "❗Observação: a divisão sempre vai gerar um resultado do tipo float."
   ]
  },
  {
   "cell_type": "code",
   "execution_count": null,
   "metadata": {},
   "outputs": [
    {
     "data": {
      "text/plain": [
       "int"
      ]
     },
     "execution_count": 12,
     "metadata": {},
     "output_type": "execute_result"
    }
   ],
   "source": [
    "type(6)"
   ]
  },
  {
   "cell_type": "code",
   "execution_count": null,
   "metadata": {},
   "outputs": [
    {
     "data": {
      "text/plain": [
       "int"
      ]
     },
     "execution_count": 13,
     "metadata": {},
     "output_type": "execute_result"
    }
   ],
   "source": [
    "type(3)"
   ]
  },
  {
   "cell_type": "code",
   "execution_count": null,
   "metadata": {},
   "outputs": [
    {
     "data": {
      "text/plain": [
       "float"
      ]
     },
     "execution_count": 14,
     "metadata": {},
     "output_type": "execute_result"
    }
   ],
   "source": [
    "type(6/3)"
   ]
  },
  {
   "cell_type": "code",
   "execution_count": null,
   "metadata": {},
   "outputs": [
    {
     "data": {
      "text/plain": [
       "2"
      ]
     },
     "execution_count": 21,
     "metadata": {},
     "output_type": "execute_result"
    }
   ],
   "source": [
    "# Para obter apenas a parte inteira da divisão:\n",
    "5 //2"
   ]
  },
  {
   "cell_type": "code",
   "execution_count": null,
   "metadata": {},
   "outputs": [
    {
     "data": {
      "text/plain": [
       "1"
      ]
     },
     "execution_count": 19,
     "metadata": {},
     "output_type": "execute_result"
    }
   ],
   "source": [
    "# Para obter apenas o resto da divisão (mod):\n",
    "5%2"
   ]
  },
  {
   "cell_type": "code",
   "execution_count": null,
   "metadata": {},
   "outputs": [
    {
     "data": {
      "text/plain": [
       "8"
      ]
     },
     "execution_count": 16,
     "metadata": {},
     "output_type": "execute_result"
    }
   ],
   "source": [
    "# Potência\n",
    "2**3"
   ]
  },
  {
   "cell_type": "code",
   "execution_count": null,
   "metadata": {},
   "outputs": [
    {
     "data": {
      "text/plain": [
       "2.0"
      ]
     },
     "execution_count": 17,
     "metadata": {},
     "output_type": "execute_result"
    }
   ],
   "source": [
    "# Raiz\n",
    "4**(1/2)"
   ]
  },
  {
   "attachments": {},
   "cell_type": "markdown",
   "metadata": {},
   "source": [
    "> 💡 Curiosidade:\n",
    ">\n",
    "> A variável especial `_` pode ser usada para acessar o último valor calculado."
   ]
  },
  {
   "cell_type": "code",
   "execution_count": null,
   "metadata": {},
   "outputs": [
    {
     "data": {
      "text/plain": [
       "4"
      ]
     },
     "execution_count": 22,
     "metadata": {},
     "output_type": "execute_result"
    }
   ],
   "source": [
    "_ + 2"
   ]
  },
  {
   "cell_type": "code",
   "execution_count": null,
   "metadata": {},
   "outputs": [
    {
     "data": {
      "text/plain": [
       "6"
      ]
     },
     "execution_count": 23,
     "metadata": {},
     "output_type": "execute_result"
    }
   ],
   "source": [
    "_ + 2"
   ]
  },
  {
   "attachments": {},
   "cell_type": "markdown",
   "metadata": {},
   "source": [
    "👉 Aqui podes encontrar mais detalhes na documentação do Python sobre operações numéricas: https://docs.python.org/pt-br/3/tutorial/introduction.html#numbers"
   ]
  },
  {
   "attachments": {},
   "cell_type": "markdown",
   "metadata": {},
   "source": [
    "## Operações com Strings\n",
    "\n",
    "Apesar de Strings serem caracterizadas como texto, é possível realizar duas \"operações\" com elas:\n",
    "1. Soma: na verdade, a soma une strings em uma só, o que chamamos em programação de concatenar.\n",
    "2. Multiplicação: faz na verdade uma repetição da string, tem que sempre ser multiplicada por um número.\n",
    "\n",
    "Olha os exemplos:"
   ]
  },
  {
   "cell_type": "code",
   "execution_count": null,
   "metadata": {},
   "outputs": [
    {
     "name": "stdout",
     "output_type": "stream",
     "text": [
      "primeirasegunda\n"
     ]
    }
   ],
   "source": [
    "# Soma:\n",
    "b = \"primeira\" + \"segunda\"\n",
    "print(b)"
   ]
  },
  {
   "cell_type": "code",
   "execution_count": null,
   "metadata": {},
   "outputs": [
    {
     "name": "stdout",
     "output_type": "stream",
     "text": [
      "primeiraprimeiraprimeiraprimeiraprimeira\n"
     ]
    }
   ],
   "source": [
    "# Multiplicação:\n",
    "c = \"primeira\"*5\n",
    "print(c)"
   ]
  },
  {
   "attachments": {},
   "cell_type": "markdown",
   "metadata": {},
   "source": [
    "Mais pontos importantes sobre strings:\n",
    "- podem ser definidas com aspas duplas ou aspas simples (desde que abra e feche o mesmo tipo de aspas)\n",
    "- se quiser usar aspas dentro da string, pode usar com uma barra invertida antes ou aspas diferentes da definição de string: `print('\\'Hello World\\'')` e `print(\"'Hello World'\")` terão mesmo resultado\n",
    "- nesse caso, a barra invertida é conhecida como caractere de escape, ou seja, um caractere que vai indicar que o próximo caractere tem uma função diferente\n",
    "- outro exemplo de escape é o \\n , que dentro da função print vai criar uma nova linha: `print(\"Hello \\n World\")`\n",
    "- se quiser usar novas linhas sem o caractere de escape, pode usar aspas triplas: \n",
    "\n",
    "`print(\"\"\"Hello`\n",
    "\n",
    "`World\"\"\")`\n",
    "- caso queira usar a barra invertida sem ser como caractere de escape, pode usar uma string pura, que começa com um r antes das aspas: `print(r\"Hello \\n World\")`\n",
    "- já as f-strings (que começa com um f antes das aspas) incorporaram variáveis declaradas anteriormente dentro das strings, desde que a variável a ser incorporada esteja entre chaves: `print(f\"Hello world, este é o valor da variável a: {a}\" )`\n",
    "\n",
    "Aproveito para deixar mais uma função já construída no Python para sua biblioteca de funções: a função `len(\"string\")` conta o número de caracteres na sua string. Tenta aí.\n"
   ]
  },
  {
   "attachments": {},
   "cell_type": "markdown",
   "metadata": {},
   "source": [
    "👉 Aqui podes encontrar mais detalhes na documentação do Python sobre Strings: https://docs.python.org/pt-br/3/tutorial/introduction.html#strings"
   ]
  },
  {
   "attachments": {},
   "cell_type": "markdown",
   "metadata": {},
   "source": [
    "# Extra: Solicitando informações do usuário"
   ]
  },
  {
   "attachments": {},
   "cell_type": "markdown",
   "metadata": {},
   "source": [
    "# Extra: Importando pacotes"
   ]
  },
  {
   "cell_type": "code",
   "execution_count": null,
   "metadata": {},
   "outputs": [],
   "source": [
    "# Curiosidade:\n",
    "import this"
   ]
  },
  {
   "cell_type": "code",
   "execution_count": null,
   "metadata": {},
   "outputs": [],
   "source": [
    "import keyword\n",
    "print(keyword.kwlist)"
   ]
  }
 ],
 "metadata": {
  "kernelspec": {
   "display_name": "Python 3",
   "language": "python",
   "name": "python3"
  },
  "language_info": {
   "codemirror_mode": {
    "name": "ipython",
    "version": 3
   },
   "file_extension": ".py",
   "mimetype": "text/x-python",
   "name": "python",
   "nbconvert_exporter": "python",
   "pygments_lexer": "ipython3",
   "version": "3.10.5"
  },
  "orig_nbformat": 4
 },
 "nbformat": 4,
 "nbformat_minor": 2
}
